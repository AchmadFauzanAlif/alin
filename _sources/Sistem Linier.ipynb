{
 "cells": [
  {
   "cell_type": "markdown",
   "metadata": {},
   "source": [
    "# Penjelasan Mengenai Sistem Persamaan Linier\n",
    "\n",
    "Sistem persamaan linear (SPL) adalah suatu sistem matematika yang terdiri dari beberapa persamaan yang terhubung satu sama lain. Setiap persamaan terdiri dari beberapa variabel yang dihubungkan dengan koefisien tertentu. SPL dapat digunakan untuk menggambarkan kehidupan sehari-hari, seperti perhitungan biaya, jumlah makanan, dan lain-lain. SPL dapat digunakan dalam berbagai bidang, seperti fisika, teknik, dan matematika.\n",
    "\n",
    "Untuk menyelesaikan SPL, ada beberapa metode yang dapat digunakan, seperti metode eliminasi Gauss, metode substitusi balik, dan metode inversi matriks. Metode eliminasi Gauss adalah metode yang paling sering digunakan untuk menyelesaikan SPL.\n",
    "\n",
    "Sistem persamaan linear dapat digunakan untuk membantu dalam mengubah satu persamaan menjadi bentuk lain, seperti menjadi persamaan yang lebih mudah untuk dipecahkan atau diperhitungkan. SPL juga dapat digunakan untuk membantu dalam menentukan nilai variabel yang memenuhi persamaan yang diberikan.\n",
    "\n",
    "Penelitian yang dilakukan oleh siswa mengenai sistem persamaan linear menunjukkan bahwa siswa seringkali melakukan kesalahan dalam menyelesaikan soal kontekstual pada materi program linier. Hal ini disebabkan oleh kesulitan siswa dalam menyelesaikan persamaan linier yang kompleks dan memerlukan pengertian matematika yang lebih dalam. Pengertian sistem persamaan linear dan cara menyelesaikannya harus disediakan dengan baik sebelum mengajar mata pelajaran tersebut.\n",
    "\n",
    "\n",
    "# Pengertian Mengenai Sistem Eliminasi Gauss\n",
    "\n",
    "Eliminasi Gauss adalah metode yang digunakan untuk menyelesaikan sistem persamaan linear dengan mengubah matriks yang berukuran besar ke dalam bentuk matriks tereduksi. Metode ini ditemukan oleh Carl Friedrich Gauss, seorang matematikawan Jerman yang mempunyai kontribusi besar dalam teori bilangan, teori fungsi, dan teori probabilitas. Eliminasi Gauss dapat dimanfaatkan untuk menghasilkan matriks dengan bentuk eselon baris, yang merupakan matriks yang memenuhi tiga kriteria:\n",
    "\n",
    "1. Jika didalam baris terdapat elemen-elemen yang tidak semuanya nol, maka bilangan tak nol pertama di dalam baris tersebut adalah 1.\n",
    "2. Jika terdapat dua baris berurutan yang memenuhi kriteria pertama, maka angka 1 (pertama/utama) dari baris yang lebih rendah berada lebih kekanan dari angka 1 (pertama/utama) baris yang lebih tinggi.\n",
    "3. Jika terdapat dua baris berurutan yang memenuhi kriteria pertama, maka angka 1 pertama (dari kiri) pada baris yang lebih rendah letaknya lebih kekanan dari angka 1 pertama dari baris yang lebih tinggi.\n",
    "\n",
    "Setelah matriks dibawa ke bentuk eselon baris, prosesnya disebut eliminasi Gauss. Jika matriks yang dihasilkan merupakan matriks bentuk eselon baris tereduksi, prosesnya disebut eliminasi Gauss-Jordan. Eliminasi Gauss digunakan untuk sistem persamaan linear dengan matriks yang diperluas, yang disebut matriks yang diperluas atau augmented matrix. Metode ini mengubah persamaan linear menjadi bentuk matriks, kemudian diubah ke bentuk Eselon Baris melalui Operasi Baris Elementer. Setelah itu, bentuk matriks diselesaikan dengan substitusi balik untuk mendapatkan nilai variabel bebas."
   ]
  }
 ],
 "metadata": {
  "kernelspec": {
   "display_name": "Python 3",
   "language": "python",
   "name": "python3"
  },
  "language_info": {
   "codemirror_mode": {
    "name": "ipython",
    "version": 3
   },
   "file_extension": ".py",
   "mimetype": "text/x-python",
   "name": "python",
   "nbconvert_exporter": "python",
   "pygments_lexer": "ipython3",
   "version": "3.8.0"
  },
  "widgets": {
   "application/vnd.jupyter.widget-state+json": {
    "state": {},
    "version_major": 2,
    "version_minor": 0
   }
  }
 },
 "nbformat": 4,
 "nbformat_minor": 4
}
