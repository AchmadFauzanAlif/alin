{
 "cells": [
  {
   "cell_type": "markdown",
   "metadata": {},
   "source": [
    "<!-- Tugas Komputasi aljabar linier -->\n",
    "\n",
    "<!-- Judul dari Materi tugas dan Hari ini -->\n",
    "# Matrix Invers \n",
    " cerita matrix invers : teori tentang matrix invers........\n",
    "\n",
    "## sifat sifat matrix invers\n",
    "cerita......\n",
    "\n",
    "## mencari invers matriks invers dengan eliminasi gaus jordan\n",
    "contoh soal........\n",
    "\n",
    "## penyelesaian sistem persamaan linien menggunakan matrix invers\n",
    "contoh penyelesaian.........\n",
    "<!-- note tidak boleh menggunakan fungsi invers pada numpy -->\n",
    "\n",
    "### membuat soal 4 persamaan 4 variabel cari solusinya pakai invers matriks\n",
    "contoh soal..........\n",
    "contoh penyelesaian.........\n",
    "<!-- note tidak boleh menggunakan fungsi invers pada numpy -->\n",
    "\n"
   ]
  },
  {
   "cell_type": "markdown",
   "metadata": {},
   "source": [
    "# *Judul Pada Tulisan*\n",
    "\n",
    "## Matriks Invers\n",
    "\n"
   ]
  },
  {
   "cell_type": "code",
   "execution_count": 1,
   "metadata": {},
   "outputs": [
    {
     "name": "stdout",
     "output_type": "stream",
     "text": [
      "[[2 1]\n",
      " [1 1]]\n"
     ]
    }
   ],
   "source": [
    "import numpy as np \n",
    "\n",
    "A = np.array([[2, 1], [1, 1]])\n",
    "B = np.array([[1, 0], [0, 1]])\n",
    "\n",
    "# Perkalian matriks\n",
    "C = np.dot(A, B)\n",
    "print(C)"
   ]
  },
  {
   "cell_type": "code",
   "execution_count": 2,
   "metadata": {},
   "outputs": [
    {
     "name": "stdout",
     "output_type": "stream",
     "text": [
      "[[2 1]\n",
      " [1 1]]\n"
     ]
    }
   ],
   "source": [
    "import numpy as np \n",
    "\n",
    "A = np.array([[1, 0], [0, 1]])\n",
    "B = np.array([[2, 1], [1, 1]])\n",
    "\n",
    "# Perkalian matriks\n",
    "C = np.dot(A, B)\n",
    "print(C)"
   ]
  },
  {
   "cell_type": "markdown",
   "metadata": {},
   "source": [
    "carilah invers dari matrix dengan eliminasi gauss\n",
    "\n",
    "$$\n",
    "\\begin{bmatrix}\n",
    "a & b \\\\\n",
    "c & d \n",
    "\\end{bmatrix}\n",
    "$$\n",
    "\n",
    "\n"
   ]
  },
  {
   "cell_type": "code",
   "execution_count": 10,
   "metadata": {},
   "outputs": [],
   "source": [
    "def RowSwap(A,k,l):\n",
    "# =============================================================================\n",
    "#     A is a NumPy array.  RowSwap will return duplicate array with rows\n",
    "#     k and l swapped.\n",
    "# =============================================================================\n",
    "    m = A.shape[0]  # m is number of rows in A\n",
    "    n = A.shape[1]  # n is number of columns in A\n",
    "\n",
    "    B = np.copy(A).astype('float64')\n",
    "\n",
    "    for j in range(n):\n",
    "        temp = B[k][j]\n",
    "        B[k][j] = B[l][j]\n",
    "        B[l][j] = temp\n",
    "\n",
    "    return B\n",
    "\n",
    "def RowScale(A,k,scale):\n",
    "# =============================================================================\n",
    "#     A is a NumPy array.  RowScale will return duplicate array with the\n",
    "#     entries of row k multiplied by scale.\n",
    "# =============================================================================\n",
    "    m = A.shape[0]  # m is number of rows in A\n",
    "    n = A.shape[1]  # n is number of columns in A\n",
    "\n",
    "    B = np.copy(A).astype('float64')\n",
    "\n",
    "    for j in range(n):\n",
    "        B[k][j] *= scale\n",
    "\n",
    "    return B\n",
    "\n",
    "def RowAdd(A,k,l,scale):\n",
    "# =============================================================================\n",
    "#     A is a numpy array.  RowAdd will return duplicate array with row\n",
    "#     l modifed.  The new values will be the old values of row l added to\n",
    "#     the values of row k, multiplied by scale.\n",
    "# =============================================================================\n",
    "    m = A.shape[0]  # m is number of rows in A\n",
    "    n = A.shape[1]  # n is number of columns in A\n",
    "\n",
    "    B = np.copy(A).astype('float64')\n",
    "\n",
    "    for j in range(n):\n",
    "        B[l][j] += B[k][j]*scale\n",
    "\n",
    "    return B"
   ]
  },
  {
   "cell_type": "code",
   "execution_count": 9,
   "metadata": {},
   "outputs": [
    {
     "name": "stdout",
     "output_type": "stream",
     "text": [
      "[[ 2  2  1  1  0  0]\n",
      " [ 4  2  3  0  1  0]\n",
      " [ 1  3 -1  0  0  1]]\n"
     ]
    }
   ],
   "source": [
    "A=np.array([[2,2,1, 1,0,0],[4,2,3, 0,1,0],[1,3,-1, 0,0,1]])\n",
    "print(A)\n"
   ]
  },
  {
   "cell_type": "code",
   "execution_count": null,
   "metadata": {},
   "outputs": [],
   "source": []
  },
  {
   "cell_type": "code",
   "execution_count": 50,
   "metadata": {},
   "outputs": [
    {
     "name": "stdout",
     "output_type": "stream",
     "text": [
      "[[ 2.  2.  1.  1.  0.  0.]\n",
      " [ 0. -2.  1. -2.  1.  0.]\n",
      " [ 1.  3. -1.  0.  0.  1.]] \n",
      "\n",
      "[[ 2.  2.  1.  1.  0.  0.]\n",
      " [ 0. -2.  1. -2.  1.  0.]\n",
      " [-1.  1. -2. -1.  0.  1.]] \n",
      "\n",
      "[[ 1.   1.   0.5  0.5  0.   0. ]\n",
      " [ 0.  -2.   1.  -2.   1.   0. ]\n",
      " [-1.   1.  -2.  -1.   0.   1. ]] \n",
      "\n",
      "[[ 1.   1.   0.5  0.5  0.   0. ]\n",
      " [ 0.  -2.   1.  -2.   1.   0. ]\n",
      " [ 0.   2.  -1.5 -0.5  0.   1. ]] \n",
      "\n",
      "[[ 1.   1.   0.5  0.5  0.   0. ]\n",
      " [ 0.  -2.   1.  -2.   1.   0. ]\n",
      " [ 0.   0.  -0.5 -2.5  1.   1. ]] \n",
      "\n",
      "[[ 1.   1.   0.5  0.5  0.   0. ]\n",
      " [ 0.  -1.   0.5 -1.   0.5  0. ]\n",
      " [ 0.   0.  -0.5 -2.5  1.   1. ]] \n",
      "\n",
      "[[ 1.   0.   1.  -0.5  0.5  0. ]\n",
      " [ 0.  -1.   0.5 -1.   0.5  0. ]\n",
      " [ 0.   0.  -0.5 -2.5  1.   1. ]] \n",
      "\n",
      "[[ 1.   0.   1.  -0.5  0.5  0. ]\n",
      " [ 0.  -2.   1.  -2.   1.   0. ]\n",
      " [ 0.   0.  -0.5 -2.5  1.   1. ]] \n",
      "\n",
      "[[ 1.   0.   1.  -0.5  0.5  0. ]\n",
      " [-0.   4.  -2.   4.  -2.  -0. ]\n",
      " [ 0.   0.  -0.5 -2.5  1.   1. ]] \n",
      "\n"
     ]
    }
   ],
   "source": [
    "a1 = RowAdd(A,0,1,-2)\n",
    "print(a1, '\\n')\n",
    "\n",
    "a2 = RowAdd(a1,0,2,-1)\n",
    "print(a2, '\\n')\n",
    "\n",
    "a3 = RowScale(a2,0,1/2)\n",
    "print(a3, '\\n')\n",
    "\n",
    "a4 = RowAdd(a3,0,2,1)\n",
    "print(a4, '\\n')\n",
    "\n",
    "a5 = RowAdd(a4,1,2,1)\n",
    "print(a5, '\\n')\n",
    "\n",
    "a6 = RowScale(a5,1,1/2)\n",
    "print(a6, '\\n')\n",
    "\n",
    "a7 = RowAdd(a6,1,0,1)\n",
    "print(a7, '\\n')\n",
    "\n",
    "a8 = RowScale(a7,1,1/0.5)\n",
    "print(a8, '\\n')\n",
    "\n",
    "a9 = RowScale(a8,1,-2)\n",
    "print(a9, '\\n')\n"
   ]
  }
 ],
 "metadata": {
  "kernelspec": {
   "display_name": "Python 3 (ipykernel)",
   "language": "python",
   "name": "python3"
  },
  "language_info": {
   "codemirror_mode": {
    "name": "ipython",
    "version": 3
   },
   "file_extension": ".py",
   "mimetype": "text/x-python",
   "name": "python",
   "nbconvert_exporter": "python",
   "pygments_lexer": "ipython3",
   "version": "3.10.13"
  },
  "widgets": {
   "application/vnd.jupyter.widget-state+json": {
    "state": {},
    "version_major": 2,
    "version_minor": 0
   }
  }
 },
 "nbformat": 4,
 "nbformat_minor": 4
}
