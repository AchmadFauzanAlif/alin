{
 "cells": [
  {
   "cell_type": "markdown",
   "metadata": {},
   "source": [
    "# *Aplikasi Aljabar Linier*\n",
    "\n",
    "## Definsi Aplikasi Aljabar Linier\n",
    "\n",
    "Aplikasi aljabar linier merujuk pada penggunaan prinsip dan teknik aljabar linier untuk memecahkan masalah di berbagai bidang sains, teknik, ekonomi, dan ilmu komputer. \n",
    "\n",
    "### Penerapan Aljabar Linier pada PageRank\n",
    "\n",
    "PageRank sendiri adalah algoritma yang diperkenalkan oleh Larry Page, salah satu pendiri Google, untuk mengurutkan halaman web di mesin pencarian Google. Algoritma ini sejak itu digunakan dalam berbagai bidang, termasuk mencari kalimat inti dan media sosial. \n",
    "\n",
    "### Implementasi PageRank \n",
    "Algoritma berbasis pada konsep a Random Walk pada Graph, dimana nodes mewakili halaman web dan edges mewakili tautan antar mereka. Dengan ini, kita bisa mendefinisikan skore dari node dengan rumus: \n",
    "\n",
    "$$ rj = \\sum_{i \\rightarrow j} \\frac{r_{i}}{d_{i}} $$\n",
    "\n",
    "Algoritma ini biasanya diimplementasikan menggunakan proses iteratif, di mana skor PageRank diperbarui berdasarkan skor node yang terhubunh. Proses diulangi hingga skor konvergen.\n",
    "\n",
    "\n",
    "\n"
   ]
  },
  {
   "cell_type": "markdown",
   "metadata": {},
   "source": [
    "## Contoh Penerapan PageRank menggunakan Power Method\n",
    "\n",
    "Gambar dari Graph\n",
    "![graph](Aplikasi-Aljabar-Linier(KAL).jpeg)\n",
    "\n",
    "dengan menggunakan rumus yang telah ada diatas tadi dan menghasilkan seperti gambar dibawah ini. \n",
    "\n",
    "![persamaan]((2).jpeg)\n",
    "\n",
    "Setelah itu kita buat persamaan diatas menjadi Sebuah kumpulan matrix. Bentuk dari matriks ini adalah sebagai berikut ini\n",
    "\n",
    "$$\n",
    "P =\\begin{bmatrix}\n",
    "0 & 0 & 0 & 0 & 1/3 \\\\\n",
    "0 & 0 & 1/2 & 1 & 1/3 \\\\\n",
    "1/3 & 0 & 0 & 0 & 1/3 \\\\\n",
    "1/3 & 0 1/2 & 0 & 0  \\\\\n",
    "1/3 & 1 & 0 & 0 & 0 \n",
    "\\end{bmatrix}\n",
    "\n",
    "$$\n",
    "\n",
    "[Sumber](https://towardsdatascience.com/pagerank-algorithm-fully-explained-dc794184b4af)"
   ]
  },
  {
   "cell_type": "markdown",
   "metadata": {},
   "source": [
    "## Implementasi Power Method Menggunakan Perulangan "
   ]
  },
  {
   "cell_type": "code",
   "execution_count": 1,
   "metadata": {},
   "outputs": [
    {
     "name": "stdout",
     "output_type": "stream",
     "text": [
      "vektor1 = [[0.06666667]\n",
      " [0.36666667]\n",
      " [0.13333333]\n",
      " [0.16666667]\n",
      " [0.26666667]]\n",
      "iterasi ke-1 = [0.05555556]\n",
      "\n",
      "vektor2 = [[0.06666667]\n",
      " [0.36666667]\n",
      " [0.13333333]\n",
      " [0.16666667]\n",
      " [0.26666667]]\n",
      "iterasi ke-2 = [0.02395062]\n",
      "\n",
      "vektor3 = [[0.08888889]\n",
      " [0.32222222]\n",
      " [0.11111111]\n",
      " [0.08888889]\n",
      " [0.38888889]]\n",
      "iterasi ke-3 = [0.00768176]\n",
      "\n",
      "urutan = [[0.35185185]\n",
      " [0.27407407]\n",
      " [0.15925926]\n",
      " [0.12962963]\n",
      " [0.08518519]]\n"
     ]
    }
   ],
   "source": [
    "import numpy as np\n",
    "\n",
    "def perkalianMatriks(matriks, vektor):\n",
    "    vektor_baru = matriks @ vektor\n",
    "    return vektor_baru\n",
    "\n",
    "def hitungPerbedaan(vektor_baru, vektor_lama):\n",
    "    perbedaan = 0\n",
    "    for i in range(len(vektor_baru)):\n",
    "        perbedaan += (vektor_baru[i] - vektor_lama[i])**2\n",
    "    return perbedaan\n",
    "\n",
    "def cekKonvergensi(matriks, vektor_awal, toleransi):\n",
    "    jumlah_iterasi = 1\n",
    "    vektor_baru = perkalianMatriks(matriks, vektor_awal)\n",
    "    nilai_iterasi = hitungPerbedaan(vektor_baru, vektor_awal)\n",
    "    print(f'vektor{jumlah_iterasi} = {vektor_baru}')\n",
    "    print(f'iterasi ke-{jumlah_iterasi} = {nilai_iterasi}')\n",
    "    print()\n",
    "    while nilai_iterasi > toleransi:\n",
    "        vektor_selanjutnya = perkalianMatriks(matriks, vektor_baru)\n",
    "        nilai_iterasi = hitungPerbedaan(vektor_selanjutnya, vektor_baru)\n",
    "        print(f'vektor{jumlah_iterasi+1} = {vektor_baru}')\n",
    "        print(f'iterasi ke-{jumlah_iterasi+1} = {nilai_iterasi}')\n",
    "        print()\n",
    "        vektor_baru = vektor_selanjutnya\n",
    "        jumlah_iterasi += 1\n",
    "    return f'urutan = {peringkatHalaman(vektor_selanjutnya)}'\n",
    "\n",
    "def peringkatHalaman(vektor):\n",
    "    return np.sort(vektor, axis=0)[::-1]\n",
    "\n",
    "matriks = np.array([[0,0,0,0,1/3], [0,0,1/2,1,1/3], [1/3,0,0,0,1/3], [1/3,0,1/2,0,0], [1/3,1,0,0,0]])\n",
    "vektor_awal = np.array([[0.2], [0.2], [0.2], [0.2], [0.2]])\n",
    "toleransi = 0.01\n",
    "hasil = cekKonvergensi(matriks, vektor_awal, toleransi)\n",
    "print(hasil)\n"
   ]
  }
 ],
 "metadata": {
  "kernelspec": {
   "display_name": "Python 3 (ipykernel)",
   "language": "python",
   "name": "python3"
  },
  "language_info": {
   "codemirror_mode": {
    "name": "ipython",
    "version": 3
   },
   "file_extension": ".py",
   "mimetype": "text/x-python",
   "name": "python",
   "nbconvert_exporter": "python",
   "pygments_lexer": "ipython3",
   "version": "3.10.13"
  },
  "widgets": {
   "application/vnd.jupyter.widget-state+json": {
    "state": {},
    "version_major": 2,
    "version_minor": 0
   }
  }
 },
 "nbformat": 4,
 "nbformat_minor": 4
}