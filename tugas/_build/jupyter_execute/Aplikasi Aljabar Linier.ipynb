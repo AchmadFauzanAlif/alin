{
 "cells": [
  {
   "cell_type": "markdown",
   "metadata": {},
   "source": [
    "# *Aplikasi Aljabar Linier*\n",
    "\n",
    "## Definsi Aplikasi Aljabar Linier\n",
    "\n",
    "Aplikasi aljabar linier merujuk pada penggunaan prinsip dan teknik aljabar linier untuk memecahkan masalah di berbagai bidang sains, teknik, ekonomi, dan ilmu komputer. \n",
    "\n",
    "### Penerapan Aljabar Linier pada PageRank\n",
    "\n",
    "PageRank sendiri adalah algoritma yang diperkenalkan oleh Larry Page, salah satu pendiri Google, untuk mengurutkan halaman web di mesin pencarian Google. Algoritma ini sejak itu digunakan dalam berbagai bidang, termasuk mencari kalimat inti dan media sosial. \n",
    "\n",
    "### Implementasi PageRank \n",
    "Algoritma berbasis pada konsep a Random Walk pada Graph, dimana nodes mewakili halaman web dan edges mewakili tautan antar mereka. Dengan ini, kita bisa mendefinisikan skore dari node dengan rumus: \n",
    "\n",
    "$$ rj = \\sum_{i \\rightarrow j} \\frac{r_{i}}{d_{i}} $$\n",
    "\n",
    "Algoritma ini biasanya diimplementasikan menggunakan proses iteratif, di mana skor PageRank diperbarui berdasarkan skor node yang terhubunh. Proses diulangi hingga skor konvergen.\n",
    "\n",
    "\n",
    "\n"
   ]
  },
  {
   "cell_type": "markdown",
   "metadata": {},
   "source": [
    "## Contoh Penerapan PageRank menggunakan Power Method\n",
    "\n",
    "Gambar dari Graph\n",
    "![graph](Aplikasi-Aljabar-Linier(KAL).jpeg)\n",
    "\n",
    "dengan menggunakan rumus yang telah ada diatas tadi dan menghasilkan seperti gambar dibawah ini. \n",
    "\n",
    "![persamaan]((2).jpeg)\n",
    "\n"
   ]
  },
  {
   "cell_type": "code",
   "execution_count": null,
   "metadata": {},
   "outputs": [],
   "source": []
  }
 ],
 "metadata": {
  "kernelspec": {
   "display_name": "Python 3 (ipykernel)",
   "language": "python",
   "name": "python3"
  },
  "language_info": {
   "codemirror_mode": {
    "name": "ipython",
    "version": 3
   },
   "file_extension": ".py",
   "mimetype": "text/x-python",
   "name": "python",
   "nbconvert_exporter": "python",
   "pygments_lexer": "ipython3",
   "version": "3.10.13"
  },
  "widgets": {
   "application/vnd.jupyter.widget-state+json": {
    "state": {},
    "version_major": 2,
    "version_minor": 0
   }
  }
 },
 "nbformat": 4,
 "nbformat_minor": 4
}