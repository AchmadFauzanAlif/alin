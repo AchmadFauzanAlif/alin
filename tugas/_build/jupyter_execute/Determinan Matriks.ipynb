{
 "cells": [
  {
   "cell_type": "markdown",
   "metadata": {},
   "source": [
    "# Materi Determinan Matriks\n",
    "\n",
    "## Pengertian dari Determinan Matriks \n",
    "\n",
    "Determinan adalah nilai yang dapat dihitung dari unsur-unsur suatu matriks persegi. Matriks persegi adalah matriks yang memiliki jumlah baris dan kolom yang sama, sehingga kalau kita gambarkan bentuk matriksnya, akan membentuk bangun layaknya persegi. Rumus dari determinan Matriks adalah sebagai berikut ini \n",
    "\n",
    "### Operasi determinan matriks 2X2\n",
    "\n",
    "$$ A = \\begin{bmatrix}\n",
    "a & b  \\\\\n",
    "c & d  \\\\\n",
    "\\end{bmatrix}\n",
    "$$\n",
    "\n",
    "$$ (a \\times d) - (b \\times b) $$\n",
    "\n",
    "#### Contoh Operasi determinan Matriks 2X2\n",
    "\n",
    "$$ A = \\begin{bmatrix}\n",
    "2 & 5  \\\\\n",
    "4 & 3  \\\\\n",
    "\\end{bmatrix}\n",
    "$$\n",
    "\n",
    "$$ (2 \\times 3) - (5 \\times 4) = 6 - 20 = 14 $$\n",
    "\n",
    "\n",
    "## Sifat Sifat dari Determinan Matriks"
   ]
  },
  {
   "cell_type": "code",
   "execution_count": 1,
   "metadata": {
    "metadata": {}
   },
   "outputs": [
    {
     "name": "stdout",
     "output_type": "stream",
     "text": [
      "[[2 3]\n",
      " [1 2]]\n",
      "\n",
      "[[1 2 3]\n",
      " [1 1 3]\n",
      " [1 4 2]]\n",
      "\n",
      "[[1 0]\n",
      " [0 1]]\n",
      "\n",
      "[[1 0 0]\n",
      " [0 1 0]\n",
      " [0 0 1]]\n"
     ]
    }
   ],
   "source": [
    "import numpy as np\n",
    "\n",
    "matriksA = np.array([[2,3],[1,2]])\n",
    "matriksB = np.array([[1,2,3],[1,1,3],[1,4,2]])\n",
    "matriksC = np.array([[1,0,],[0,1,]])\n",
    "matriksD = np.array([[1,0,0],[0,1,0],[0,0,1]])\n",
    "\n",
    "\n",
    "print(matriksA)\n",
    "print()\n",
    "print(matriksB)\n",
    "print()\n",
    "print(matriksC)\n",
    "print()\n",
    "print(matriksD)"
   ]
  },
  {
   "cell_type": "markdown",
   "metadata": {},
   "source": [
    "1. Sebanyak apapun ordo dari Matriks Indentitas determinannya pasti adalah 1 "
   ]
  },
  {
   "cell_type": "code",
   "execution_count": 2,
   "metadata": {
    "metadata": {}
   },
   "outputs": [
    {
     "name": "stdout",
     "output_type": "stream",
     "text": [
      "1.0\n",
      "1.0\n"
     ]
    }
   ],
   "source": [
    "detC = np.linalg.det(matriksC)\n",
    "detD = np.linalg.det(matriksD)\n",
    "\n",
    "print(detC)\n",
    "print(detC)"
   ]
  },
  {
   "cell_type": "markdown",
   "metadata": {},
   "source": [
    "2. determinan dari matriks det(AB) sama dengan det(A) x det(B)."
   ]
  },
  {
   "cell_type": "code",
   "execution_count": 3,
   "metadata": {
    "metadata": {}
   },
   "outputs": [
    {
     "name": "stdout",
     "output_type": "stream",
     "text": [
      "0.0\n"
     ]
    }
   ],
   "source": [
    "matriksE = np.array([[2,1,3],[1,2,3],[1,1,2]])\n",
    "matriksF = np.array([[2,1,3],[1,1,1],[3,2,3]])\n",
    "\n",
    "\n",
    "detE = np.linalg.det(matriksE)\n",
    "detB = np.linalg.det(matriksB)\n",
    "\n",
    "kali1 = detE * detB\n",
    "print(kali1)"
   ]
  },
  {
   "cell_type": "markdown",
   "metadata": {},
   "source": [
    "3. Merubah suatu matriks akan merubah tanda dari suatu determinan pada matriks"
   ]
  },
  {
   "cell_type": "code",
   "execution_count": 4,
   "metadata": {
    "metadata": {}
   },
   "outputs": [
    {
     "name": "stdout",
     "output_type": "stream",
     "text": [
      "[[1 4 2]\n",
      " [1 1 1]\n",
      " [3 2 1]]\n",
      "\n",
      "5.0\n",
      "-5.0\n",
      "-5.0\n"
     ]
    }
   ],
   "source": [
    "matriksA = np.array([[1,4,2],[1,1,1],[3,2,1]])\n",
    "\n",
    "matriksA1 = np.array([[1,1,1],[1,4,2],[3,2,1]])\n",
    "\n",
    "matriksA2 = np.array([[4,1,2],[1,1,1],[2,3,1]])\n",
    "\n",
    "detA = np.linalg.det(matriksA)\n",
    "detA1 = np.linalg.det(matriksA1)\n",
    "detA2 = np.linalg.det(matriksA2)\n",
    "\n",
    "\n",
    "print(matriksA)\n",
    "print()\n",
    "print(detA.round())\n",
    "print(detA1.round())\n",
    "print(detA2.round())\n"
   ]
  },
  {
   "cell_type": "markdown",
   "metadata": {},
   "source": [
    "4. Jika baris dari matriks merupakan kelipatan dari baris atau kolom yang lain maka akan menghasilkan nol"
   ]
  },
  {
   "cell_type": "code",
   "execution_count": 5,
   "metadata": {
    "metadata": {}
   },
   "outputs": [
    {
     "name": "stdout",
     "output_type": "stream",
     "text": [
      "[[1 4 2]\n",
      " [2 8 4]\n",
      " [3 2 1]]\n",
      "0.0\n",
      "\n",
      "[[1 4 2]\n",
      " [2 8 3]\n",
      " [1 4 1]]\n",
      "0.0\n"
     ]
    }
   ],
   "source": [
    "import numpy as np\n",
    "matriksB = np.array([[1,4,2],[2,8,4],[3,2,1]])\n",
    "matriksB1 = np.array([[1,4,2],[2,8,3],[1,4,1]])\n",
    "\n",
    "detB = np.linalg.det(matriksB)\n",
    "detB1 = np.linalg.det(matriksB1)\n",
    "\n",
    "print(matriksB)\n",
    "print(detB)\n",
    "print()\n",
    "print(matriksB1)\n",
    "print(detB1)\n"
   ]
  },
  {
   "cell_type": "markdown",
   "metadata": {},
   "source": [
    "5. Jika matriks A dikalikan dengan skalar, maka determinan dari Matriks A yang dikali dengan Skalar bisa di cari dengan cara, kalikan determinan A dengan skalar pangkat orde matriks\n",
    "\n",
    "$$ det(KA) = det(A) \\times k^{ordo matriks} $$"
   ]
  },
  {
   "cell_type": "code",
   "execution_count": 6,
   "metadata": {
    "metadata": {}
   },
   "outputs": [
    {
     "name": "stdout",
     "output_type": "stream",
     "text": [
      "[[2 8 4]\n",
      " [2 2 2]\n",
      " [6 4 2]]\n",
      "\n",
      "40.0\n",
      "\n",
      "40\n"
     ]
    }
   ],
   "source": [
    "matriksA = np.array([[1,4,2],[1,1,1],[3,2,1]])\n",
    "k = 2\n",
    "matriksA1 = matriksA * 2\n",
    "print(matriksA1)\n",
    "\n",
    "print()\n",
    "\n",
    "# Menggunakan fungsi dari python\n",
    "detA1 = np.linalg.det(matriksA1)\n",
    "print(detA1)\n",
    "\n",
    "print()\n",
    "\n",
    "#Menggunakan sifat dari determinan\n",
    "detKA = 5 * 2**3\n",
    "print(detKA)\n"
   ]
  },
  {
   "cell_type": "markdown",
   "metadata": {},
   "source": [
    "6. Jika skalar dikalikan dengan baris 1 dari matriks pertama maka ,determinan KA bisa dicari dengan skalar dikali determinan martriks. $$ det(KA) = K \\times det(A) $$\n"
   ]
  },
  {
   "cell_type": "code",
   "execution_count": 7,
   "metadata": {
    "metadata": {}
   },
   "outputs": [
    {
     "name": "stdout",
     "output_type": "stream",
     "text": [
      "[[1 4 2]\n",
      " [1 1 1]\n",
      " [3 2 1]]\n",
      "\n",
      "10.0\n",
      "\n",
      "10\n"
     ]
    }
   ],
   "source": [
    "matriksA = np.array([[1,4,2],[1,1,1],[3,2,1]])\n",
    "print(matriksA)\n",
    "k = 2\n",
    "\n",
    "print()\n",
    "\n",
    "# Menggunakan fungsi dari py\n",
    "matriksA1 = np.array([[2,8,4],[1,1,1],[3,2,1]])\n",
    "detA1 = np.linalg.det(matriksA1)\n",
    "print(detA1.round())\n",
    "\n",
    "print()\n",
    "# Menggunakan sifat dari determinan\n",
    "detKA = 2 * 5\n",
    "print(detKA)"
   ]
  },
  {
   "cell_type": "markdown",
   "metadata": {},
   "source": [
    "7. Melakukan operasi baris elementer tidak merupah nilai determinan dari matriks tersebut"
   ]
  },
  {
   "cell_type": "code",
   "execution_count": 8,
   "metadata": {
    "metadata": {}
   },
   "outputs": [],
   "source": [
    "def RowSwap(A,k,l):\n",
    "# =============================================================================\n",
    "#     A is a NumPy array.  RowSwap will return duplicate array with rows\n",
    "#     k and l swapped.\n",
    "# =============================================================================\n",
    "    m = A.shape[0]  # m is number of rows in A\n",
    "    n = A.shape[1]  # n is number of columns in A\n",
    "\n",
    "    B = np.copy(A).astype('float64')\n",
    "\n",
    "    for j in range(n):\n",
    "        temp = B[k][j]\n",
    "        B[k][j] = B[l][j]\n",
    "        B[l][j] = temp\n",
    "\n",
    "    return B\n",
    "\n",
    "def RowScale(A,k,scale):\n",
    "# =============================================================================\n",
    "#     A is a NumPy array.  RowScale will return duplicate array with the\n",
    "#     entries of row k multiplied by scale.\n",
    "# =============================================================================\n",
    "    m = A.shape[0]  # m is number of rows in A\n",
    "    n = A.shape[1]  # n is number of columns in A\n",
    "\n",
    "    B = np.copy(A).astype('float64')\n",
    "\n",
    "    for j in range(n):\n",
    "        B[k][j] *= scale\n",
    "\n",
    "    return B\n",
    "\n",
    "def RowAdd(A,k,l,scale):\n",
    "# =============================================================================\n",
    "#     A is a numpy array.  RowAdd will return duplicate array with row\n",
    "#     l modifed.  The new values will be the old values of row l added to\n",
    "#     the values of row k, multiplied by scale.\n",
    "# =============================================================================\n",
    "    m = A.shape[0]  # m is number of rows in A\n",
    "    n = A.shape[1]  # n is number of columns in A\n",
    "\n",
    "    B = np.copy(A).astype('float64')\n",
    "\n",
    "    for j in range(n):\n",
    "        B[l][j] += B[k][j]*scale\n",
    "\n",
    "    return B"
   ]
  },
  {
   "cell_type": "code",
   "execution_count": 9,
   "metadata": {
    "metadata": {}
   },
   "outputs": [
    {
     "name": "stdout",
     "output_type": "stream",
     "text": [
      "5.0\n",
      "\n",
      "\n",
      " [[ 1.  4.  2.]\n",
      " [ 0. -3. -1.]\n",
      " [ 3.  2.  1.]]\n",
      "5.0\n"
     ]
    }
   ],
   "source": [
    "matriksA = np.array([[1,4,2],[1,1,1],[3,2,1]])\n",
    "detA = np.linalg.det(matriksA)\n",
    "print(detA.round())\n",
    "\n",
    "print()\n",
    "\n",
    "matriksA1 = RowAdd(matriksA,0,1,-1)\n",
    "print('\\n', matriksA1)\n",
    "\n",
    "detA1 = np.linalg.det(matriksA1)\n",
    "print(detA1.round())"
   ]
  },
  {
   "cell_type": "markdown",
   "metadata": {},
   "source": [
    "8. Determinan matriks a tranpose sama dengan determinan matriks a."
   ]
  },
  {
   "cell_type": "code",
   "execution_count": 10,
   "metadata": {
    "metadata": {}
   },
   "outputs": [
    {
     "name": "stdout",
     "output_type": "stream",
     "text": [
      "5.0\n",
      "\n",
      "[[1 1 3]\n",
      " [4 1 2]\n",
      " [2 1 1]]\n",
      "\n",
      "5.0\n"
     ]
    }
   ],
   "source": [
    "matriksA = np.array([[1,4,2],[1,1,1],[3,2,1]])\n",
    "detA = np.linalg.det(matriksA)\n",
    "\n",
    "print(detA.round())\n",
    "\n",
    "print()\n",
    "transposeA = matriksA.transpose()\n",
    "print(transposeA)\n",
    "\n",
    "print()\n",
    "detA1 = np.linalg.det(transposeA)\n",
    "print(detA1.round())\n"
   ]
  },
  {
   "cell_type": "markdown",
   "metadata": {},
   "source": [
    "9. determinan matriks segitiga dicari dengan mengalikan setiap elemen yang ada di matriks diagonalnya saja"
   ]
  },
  {
   "cell_type": "code",
   "execution_count": 11,
   "metadata": {
    "metadata": {}
   },
   "outputs": [
    {
     "name": "stdout",
     "output_type": "stream",
     "text": [
      "[[1 4 2]\n",
      " [1 1 1]\n",
      " [3 2 1]]\n",
      "\n",
      "5.0\n"
     ]
    }
   ],
   "source": [
    "matriksA = np.array([[1,4,2],[1,1,1],[3,2,1]])\n",
    "print(matriksA)\n",
    "\n",
    "print()\n",
    "\n",
    "print(np.linalg.det(matriksA).round())\n",
    "\n",
    "\n"
   ]
  },
  {
   "cell_type": "code",
   "execution_count": 12,
   "metadata": {
    "metadata": {}
   },
   "outputs": [
    {
     "name": "stdout",
     "output_type": "stream",
     "text": [
      "[[2 1 3 1]\n",
      " [1 1 2 1]\n",
      " [3 4 1 2]\n",
      " [2 3 2 2]]\n"
     ]
    }
   ],
   "source": [
    "import numpy as np\n",
    "matriksF = np.array([[2,1,3,1],[1,1,2,1],[3,4,1,2],[2,3,2,2]])\n",
    "print(matriksF)\n",
    "\n",
    "# minorF1 = 1 * ((-1)**(2+1)) * [[1,3,1],[4,1,2],[3,2,2]]\n",
    "# minorF2 = 1 * ((-1)**(2+2)) * [[2,3,1],[3,1,2],[2,2,2]]\n",
    "# minorF3 = 1 * ((-1)**(2+3)) * [[2,1,1],[3,4,2],[2,3,2]]\n",
    "# minorF4 = 1 * ((-1)**(2+4)) * [[2,1,3],[3,4,1],[2,3,2]]\n"
   ]
  },
  {
   "cell_type": "code",
   "execution_count": 13,
   "metadata": {},
   "outputs": [
    {
     "name": "stdout",
     "output_type": "stream",
     "text": [
      "Matriks minorF1\n",
      "[[1 3 1]\n",
      " [4 1 2]\n",
      " [3 2 2]]\n",
      "\n",
      "Hasil :  2.0 -6.0 -5.0\n"
     ]
    }
   ],
   "source": [
    "print(\"Matriks minorF1\")\n",
    "minoF1 = np.array([[1,3,1],[4,1,2],[3,2,2]])\n",
    "print(minoF1)\n",
    "print()\n",
    "\n",
    "\n",
    "minoMatF11 = 1 * (-1**(1+1)) * np.linalg.det(np.array([[1,2],[2,2]]))\n",
    "minoMatF12 = 3 * (-1**(1+2)) * np.linalg.det(np.array([[4,2],[3,2]]))\n",
    "minoMatF13 = 1 * (-1**(1+3)) * np.linalg.det(np.array([[4,1],[3,2]]))\n",
    "\n",
    "\n",
    "print(\"Hasil : \",minoMatF11,minoMatF12,minoMatF13.round())\n"
   ]
  },
  {
   "cell_type": "code",
   "execution_count": 14,
   "metadata": {},
   "outputs": [
    {
     "name": "stdout",
     "output_type": "stream",
     "text": [
      "Matriks minorF2\n",
      "[[2 3 1]\n",
      " [3 1 2]\n",
      " [2 2 2]]\n",
      "\n",
      "hasil :  -10.0 -10.0 14.0\n"
     ]
    }
   ],
   "source": [
    "print(\"Matriks minorF2\")\n",
    "minoF2 = np.array([[2,3,1],[3,1,2],[2,2,2]])\n",
    "print(minoF2)\n",
    "print()\n",
    "\n",
    "minoMatF21 = 2 * (-1**(3+1)) * np.linalg.det(np.array([[3,1],[1,2]]))\n",
    "minoMatF22 = 2 * (-1**(3+2)) * np.linalg.det(np.array([[3,1],[1,2]]))\n",
    "minoMatF23 = 2 * (-1**(3+3)) * np.linalg.det(np.array([[2,3],[3,1]]))\n",
    "\n",
    "print(\"hasil : \",minoMatF21.round(), minoMatF22.round(), minoMatF23.round())"
   ]
  },
  {
   "cell_type": "code",
   "execution_count": 15,
   "metadata": {},
   "outputs": [
    {
     "name": "stdout",
     "output_type": "stream",
     "text": [
      "Matriks minorF3\n",
      "[[2 1 1]\n",
      " [3 4 2]\n",
      " [2 3 2]]\n",
      "\n",
      "Hasil : -4.0 -2.0 -2.0\n"
     ]
    }
   ],
   "source": [
    "print(\"Matriks minorF3\")\n",
    "minoF3 = np.array([[2,1,1],[3,4,2],[2,3,2]])\n",
    "print(minoF3)\n",
    "print()\n",
    "\n",
    "minoMatF31 = 2 * (-1**(1+1)) * np.linalg.det(np.array([[4,2],[3,2]]))\n",
    "minoMatF32 = 1 * (-1**(1+2)) * np.linalg.det(np.array([[3,2],[2,2]]))\n",
    "minoMatF33 = 2 * (-1**(1+1)) * np.linalg.det(np.array([[3,4],[2,3]]))\n",
    "\n",
    "print(\"Hasil :\", minoMatF31, minoMatF32.round(), minoMatF33.round())"
   ]
  },
  {
   "cell_type": "code",
   "execution_count": 16,
   "metadata": {},
   "outputs": [
    {
     "name": "stdout",
     "output_type": "stream",
     "text": [
      "Matriks minorF4\n",
      "[[2 1 3]\n",
      " [3 4 1]\n",
      " [2 3 2]]\n",
      "\n"
     ]
    },
    {
     "ename": "NameError",
     "evalue": "name 'minoMatF3' is not defined",
     "output_type": "error",
     "traceback": [
      "\u001b[0;31m---------------------------------------------------------------------------\u001b[0m",
      "\u001b[0;31mNameError\u001b[0m                                 Traceback (most recent call last)",
      "Cell \u001b[0;32mIn[16], line 10\u001b[0m\n\u001b[1;32m      7\u001b[0m minoMatF42 \u001b[38;5;241m=\u001b[39m \u001b[38;5;241m1\u001b[39m \u001b[38;5;241m*\u001b[39m (\u001b[38;5;241m-\u001b[39m\u001b[38;5;241m1\u001b[39m\u001b[38;5;241m*\u001b[39m\u001b[38;5;241m*\u001b[39m(\u001b[38;5;241m1\u001b[39m\u001b[38;5;241m+\u001b[39m\u001b[38;5;241m2\u001b[39m)) \u001b[38;5;241m*\u001b[39m np\u001b[38;5;241m.\u001b[39mlinalg\u001b[38;5;241m.\u001b[39mdet(np\u001b[38;5;241m.\u001b[39marray([[\u001b[38;5;241m3\u001b[39m,\u001b[38;5;241m1\u001b[39m],[\u001b[38;5;241m2\u001b[39m,\u001b[38;5;241m2\u001b[39m]]))\n\u001b[1;32m      8\u001b[0m minoMatF43 \u001b[38;5;241m=\u001b[39m \u001b[38;5;241m3\u001b[39m \u001b[38;5;241m*\u001b[39m (\u001b[38;5;241m-\u001b[39m\u001b[38;5;241m1\u001b[39m\u001b[38;5;241m*\u001b[39m\u001b[38;5;241m*\u001b[39m(\u001b[38;5;241m1\u001b[39m\u001b[38;5;241m+\u001b[39m\u001b[38;5;241m3\u001b[39m)) \u001b[38;5;241m*\u001b[39m np\u001b[38;5;241m.\u001b[39mlinalg\u001b[38;5;241m.\u001b[39mdet(np\u001b[38;5;241m.\u001b[39marray([[\u001b[38;5;241m4\u001b[39m,\u001b[38;5;241m1\u001b[39m],[\u001b[38;5;241m3\u001b[39m,\u001b[38;5;241m2\u001b[39m]]))\n\u001b[0;32m---> 10\u001b[0m \u001b[38;5;28mprint\u001b[39m(\u001b[38;5;124m\"\u001b[39m\u001b[38;5;124mHasil :\u001b[39m\u001b[38;5;124m\"\u001b[39m, minoMatF41\u001b[38;5;241m.\u001b[39mround(), minoMatF42\u001b[38;5;241m.\u001b[39mround(), \u001b[43mminoMatF3\u001b[49m\u001b[38;5;241m.\u001b[39mround())\n",
      "\u001b[0;31mNameError\u001b[0m: name 'minoMatF3' is not defined"
     ]
    }
   ],
   "source": [
    "print(\"Matriks minorF4\")\n",
    "minoF4 = np.array([[2,1,3],[3,4,1],[2,3,2]])\n",
    "print(minoF4)\n",
    "print()\n",
    "\n",
    "minoMatF41 = 2 * (-1**(1+1)) * np.linalg.det(np.array([[4,1],[3,2]]))\n",
    "minoMatF42 = 1 * (-1**(1+2)) * np.linalg.det(np.array([[3,1],[2,2]]))\n",
    "minoMatF43 = 3 * (-1**(1+3)) * np.linalg.det(np.array([[4,1],[3,2]]))\n",
    "\n",
    "print(\"Hasil :\", minoMatF41.round(), minoMatF42.round(), minoMatF3.round())"
   ]
  }
 ],
 "metadata": {
  "kernelspec": {
   "display_name": "Python 3 (ipykernel)",
   "language": "python",
   "name": "python3"
  },
  "language_info": {
   "codemirror_mode": {
    "name": "ipython",
    "version": 3
   },
   "file_extension": ".py",
   "mimetype": "text/x-python",
   "name": "python",
   "nbconvert_exporter": "python",
   "pygments_lexer": "ipython3",
   "version": "3.10.13"
  },
  "widgets": {
   "application/vnd.jupyter.widget-state+json": {
    "state": {},
    "version_major": 2,
    "version_minor": 0
   }
  }
 },
 "nbformat": 4,
 "nbformat_minor": 4
}