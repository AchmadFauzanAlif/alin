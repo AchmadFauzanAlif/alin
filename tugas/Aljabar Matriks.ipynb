{
 "cells": [
  {
   "cell_type": "markdown",
   "metadata": {},
   "source": [
    "# Aljabar Matriks\n",
    "\n",
    "## Pengertian Dari Matriks\n",
    "Matriks adalah sekumpulan bilangan yang merepresentasikan tujuan tertentu dan terorganisasi dalam baris dan kolom. Dalam aljabar matriks, matriks adalah susunan bilangan yang tersusun dalam baris dan kolom dan ditulis dalam kurung siku. Elemen-elemen matriks disebut juga entri atau elemen matriks. Matriks memiliki ukuran matriks yang disebut ordo, yaitu banyak baris × banyak kolom. Adanya berbagai jenis matriks, seperti matriks bujur sangkar, matriks segitiga atas, matriks segitiga bawah, matriks diagonal, matriks satuan, matriks nol, dan matriks invers. Matriks dapat digunakan untuk mengoperasikan dan menyelesaikan sistem persamaan linear. [matriks](https://mamikos.com/info/pengertian-matriks-pljr/)\n",
    "\n",
    "Aljabar matriks adalah cabang matematika yang mempelajari tentang matriks dan operasi-operasi yang dapat dilakukan pada matriks. Aljabar matriks mempelajari cara mengolah dan memanipulasi matriks untuk mencari solusi dari masalah-masalah matematika yang kompleks. Dalam aljabar matriks, kita dapat melakukan berbagai operasi matematika seperti penjumlahan, pengurangan, perkalian, dan pembagian matriks. Kita juga dapat melakukan operasi seperti transpose, invers, dan determinan pada matriks. Operasi-operasi ini sangat penting dalam pemecahan masalah-masalah linier, yaitu masalah yang dapat dinyatakan sebagai sistem persamaan linier. Aljabar matriks juga memiliki banyak aplikasi dalam bidang-bidang seperti teori graf, teori kendali, dan sistem linier.[AljabarMatriks1](https://myedu.ums.ac.id/courses/aljabar-matriks/?cl=1), [AljabarMatriks2](https://scholar.ui.ac.id/en/publications/aljabar-matriks)\n",
    "\n",
    "## Contoh bentuk dari matriks\n",
    "\n",
    "$$\n",
    "\\begin{bmatrix}\n",
    "0 & 4 & 4 \\\\\n",
    "8 & 2 & 4 \\\\\n",
    "4 & 9 & 3\n",
    "\\end{bmatrix}\n",
    "$$\n",
    "\n",
    "## Penggunaan Numpy pada Aljabar Matriks\n",
    "\n",
    "Numpy adalah pustaka Python yang dirancang khusus untuk manipulasi data numerik. Pustaka ini memberikan struktur data array yang efisien serta beragam fungsi matematika untuk operasi numerik. Numpy tidak hanya memberikan alternatif terhadap list Python yang umum digunakan, melainkan juga menyediakan operasi-operasi yang dioptimalkan secara efisien untuk data bertipe numerik. Dengan kata lain, Numpy menjadi solusi ideal untuk pengolahan data skalar, vektor, matriks, atau bahkan data yang lebih kompleks. Memungkinkan pengguna untuk melakukan operasi matematika, perpindahan, dan perhitungan terhadap matriks dan array dengan cepat dan efisien. Selain itu, Numpy memiliki fitur-fitur lain, seperti membuat matriks dan array, mengakses elemen matriks dan array, mengubah ukuran matriks dan array, serta membuat dan memanipulasi grafik. Karena fleksibilitas dan kinerja tinggi, Numpy banyak digunakan dalam berbagai bidang, seperti statistika, fisika, dan teori matematika.[Numpy](https://blog.indobot.co.id/penjelasan-mengenai-apa-itu-numpy-dan-fungsinya-pada-data-science/)\n",
    "\n",
    "## Operasi-operasi pada matriks dengan menggunakan numpy\n",
    "### 1. Penjumlahan Matriks\n",
    "Penjumlahan matriks adalah operasi matematika yang melibatkan dua matriks dengan dimensi yang sama, dan elemen-elemen mereka dijumlahkan secara berpasangan untuk membentuk matriks baru. Operasi penjumlahan matriks sering digunakan dalam berbagai aplikasi, seperti pengolahan citra, analisis data, dan pemodelan matematika\n",
    "\n",
    "$$\n",
    "\\begin{bmatrix}\n",
    "2 & 4 \\\\\n",
    "8 & 2 \n",
    "\\end{bmatrix}\n",
    "+\n",
    "\\begin{bmatrix}\n",
    "5 & 6 \\\\\n",
    "7 & 8 \n",
    "\\end{bmatrix}\n",
    "$$\n"
   ]
  },
  {
   "cell_type": "code",
   "execution_count": 16,
   "metadata": {},
   "outputs": [
    {
     "name": "stdout",
     "output_type": "stream",
     "text": [
      "[[ 7 10]\n",
      " [15 10]]\n"
     ]
    }
   ],
   "source": [
    "import numpy as np\n",
    "\n",
    "# Membuat matriks\n",
    "A = np.array([[2, 4], [8, 2]])\n",
    "B = np.array([[5, 6], [7, 8]])\n",
    "\n",
    "# Penjumlahan matriks\n",
    "C = np.add(A, B)\n",
    "print(C)"
   ]
  },
  {
   "cell_type": "markdown",
   "metadata": {},
   "source": [
    "### 2. Pengurangan Matriks\n",
    "Pengurangan matriks merupakan operasi untuk mengurangi elemen-elemen matriks yang sama. Jika matriks A dan B memiliki ukuran yang sama, maka matriks A - B dapat diperoleh dengan menurunkan elemen-elemen yang sama di setiap baris dan kolom\n",
    "\n",
    "$$\n",
    "\\begin{bmatrix}\n",
    "2 & 4 \\\\\n",
    "8 & 2 \n",
    "\\end{bmatrix}\n",
    "-\n",
    "\\begin{bmatrix}\n",
    "5 & 6 \\\\\n",
    "7 & 8 \n",
    "\\end{bmatrix}\n",
    "$$\n"
   ]
  },
  {
   "cell_type": "code",
   "execution_count": 17,
   "metadata": {},
   "outputs": [
    {
     "name": "stdout",
     "output_type": "stream",
     "text": [
      "[[-3 -2]\n",
      " [ 1 -6]]\n"
     ]
    }
   ],
   "source": [
    "import numpy as np\n",
    "\n",
    "# Membuat matriks\n",
    "A = np.array([[2, 4], [8, 2]])\n",
    "B = np.array([[5, 6], [7, 8]])\n",
    "\n",
    "# Pengurangan matriks\n",
    "C = np.subtract(A, B)\n",
    "print(C)"
   ]
  },
  {
   "cell_type": "markdown",
   "metadata": {},
   "source": [
    "### 3. Perkalian Matriks\n",
    "Perkalian matriks merupakan operasi untuk mengalikan elemen-elemen matriks yang berada pada baris dan kolom yang sama. Jika matriks A dan B memiliki ukuran yang sama, maka matriks A * B dapat diperoleh dengan mengalikan elemen-elemen yang berada pada baris dan kolom yang sama, lalu menjumlahkan hasil perkalian tersebut pada kolom yang sama\n",
    "\n",
    "$$\n",
    "\\begin{bmatrix}\n",
    "2 & 4 \\\\\n",
    "8 & 2 \n",
    "\\end{bmatrix}\n",
    "*\n",
    "\\begin{bmatrix}\n",
    "5 & 6 \\\\\n",
    "7 & 8 \n",
    "\\end{bmatrix}\n",
    "$$\n"
   ]
  },
  {
   "cell_type": "code",
   "execution_count": 18,
   "metadata": {},
   "outputs": [
    {
     "name": "stdout",
     "output_type": "stream",
     "text": [
      "[[38 44]\n",
      " [54 64]]\n"
     ]
    }
   ],
   "source": [
    "# Menggunakan method dari library numpy\n",
    "import numpy as np\n",
    "\n",
    "# Membuat matriks\n",
    "A = np.array([[2, 4], [8, 2]])\n",
    "B = np.array([[5, 6], [7, 8]])\n",
    "\n",
    "# Perkalian matriks\n",
    "C = np.dot(A, B)\n",
    "print(C)"
   ]
  },
  {
   "cell_type": "code",
   "execution_count": 2,
   "metadata": {},
   "outputs": [
    {
     "name": "stdout",
     "output_type": "stream",
     "text": [
      "[[38 44]\n",
      " [54 64]]\n"
     ]
    }
   ],
   "source": [
    "# Menggunakan @ \n",
    "import numpy as np\n",
    "\n",
    "# Membuat matriks\n",
    "A = np.array([[2, 4], [8, 2]])\n",
    "B = np.array([[5, 6], [7, 8]])\n",
    "\n",
    "# Perkalian Matriks\n",
    "C = A @ B \n",
    "print(C)\n"
   ]
  },
  {
   "cell_type": "code",
   "execution_count": null,
   "metadata": {},
   "outputs": [],
   "source": []
  },
  {
   "cell_type": "markdown",
   "metadata": {},
   "source": [
    "### 4. Transpose Matriks\n",
    "Transpose matriks merupakan operasi untuk mengubah matriks menjadi matriks transpose. Jika matriks A memiliki ukuran m x n, maka matriks A' memiliki ukuran n x m, dengan baris-barisnya adalah kolom-kolom dari matriks A\n",
    "\n",
    "$$\n",
    "\\begin{bmatrix}\n",
    "2 & 4 \\\\\n",
    "8 & 2 \\\\\n",
    "6 & 9\n",
    "\\end{bmatrix}\n",
    "\n",
    "$$\n"
   ]
  },
  {
   "cell_type": "code",
   "execution_count": 19,
   "metadata": {},
   "outputs": [
    {
     "name": "stdout",
     "output_type": "stream",
     "text": [
      "[[2 8 6]\n",
      " [4 2 9]]\n"
     ]
    }
   ],
   "source": [
    "import numpy as np\n",
    "\n",
    "# Membuat matriks\n",
    "A = np.array([[2, 4], [8, 2],[6, 9]])\n",
    "\n",
    "# transpose matriks\n",
    "C = np.transpose(A)\n",
    "print(C)"
   ]
  },
  {
   "cell_type": "markdown",
   "metadata": {},
   "source": [
    "### 5. Determinan Matriks\n",
    "Determinan matriks merupakan nilai yang diperoleh dari perkalian elemen-elemen matriks yang berada pada diagonal utama. Jika matriks A memiliki ukuran n x n, maka determinan matriks A dapat diperoleh dengan menjumlahkan elemen-elemen yang berada pada diagonal utam\n",
    "\n",
    "$$\n",
    "\\begin{bmatrix}\n",
    "2 & 4 \\\\\n",
    "8 & 2 \n",
    "\\end{bmatrix}\n",
    "\n",
    "$$\n"
   ]
  },
  {
   "cell_type": "code",
   "execution_count": 20,
   "metadata": {},
   "outputs": [
    {
     "name": "stdout",
     "output_type": "stream",
     "text": [
      "-27.999999999999996\n"
     ]
    }
   ],
   "source": [
    "import numpy as np\n",
    "\n",
    "# Membuat matriks\n",
    "A = np.array([[2, 4], [8, 2]])\n",
    "\n",
    "# transpose matriks\n",
    "C = np.linalg.det(A)\n",
    "print(C)"
   ]
  },
  {
   "cell_type": "markdown",
   "metadata": {},
   "source": [
    "### 6. Invers Matriks\n",
    "Invers matriks merupakan matriks yang dapat mengbalikkan operasi perkalian matriks. Jika matriks A memiliki ukuran n x n, maka matriks A⁻¹ \n",
    "dapat diperoleh dengan menghitung invers matriks A\n",
    "\n",
    "$$\n",
    "\\begin{bmatrix}\n",
    "2 & 4 \\\\\n",
    "8 & 2 \n",
    "\\end{bmatrix}\n",
    "$$\n"
   ]
  },
  {
   "cell_type": "code",
   "execution_count": 21,
   "metadata": {},
   "outputs": [
    {
     "name": "stdout",
     "output_type": "stream",
     "text": [
      "[[-0.07142857  0.14285714]\n",
      " [ 0.28571429 -0.07142857]]\n"
     ]
    }
   ],
   "source": [
    "import numpy as np\n",
    "\n",
    "# Membuat matriks\n",
    "A = np.array([[2, 4], [8, 2]])\n",
    "\n",
    "# transpose matriks\n",
    "C = np.linalg.inv(A)\n",
    "print(C)"
   ]
  },
  {
   "cell_type": "code",
   "execution_count": 11,
   "metadata": {},
   "outputs": [
    {
     "name": "stdout",
     "output_type": "stream",
     "text": [
      "[[ 69  90]\n",
      " [ 78 108]\n",
      " [111 150]]\n"
     ]
    }
   ],
   "source": [
    "import numpy as np\n",
    "\n",
    "# Membuat matriks\n",
    "A = np.array([[2,5,4], [8,2,4],[3,6,9]])\n",
    "B = np.array([[5,7], [7, 8],[6,9]])\n",
    "\n",
    "# Perkalian Matriks\n",
    "C = np.dot(A,B)\n",
    "# C = A @ B \n",
    "print(C)"
   ]
  }
 ],
 "metadata": {
  "kernelspec": {
   "display_name": "Python 3 (ipykernel)",
   "language": "python",
   "name": "python3"
  },
  "widgets": {
   "application/vnd.jupyter.widget-state+json": {
    "state": {},
    "version_major": 2,
    "version_minor": 0
   }
  }
 },
 "nbformat": 4,
 "nbformat_minor": 4
}
