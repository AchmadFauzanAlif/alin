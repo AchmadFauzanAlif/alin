{
 "cells": [
  {
   "cell_type": "code",
   "execution_count": 1,
   "metadata": {},
   "outputs": [],
   "source": [
    "def RowSwap(A,k,l):\n",
    "# =============================================================================\n",
    "#     A is a NumPy array.  RowSwap will return duplicate array with rows\n",
    "#     k and l swapped.\n",
    "# =============================================================================\n",
    "    m = A.shape[0]  # m is number of rows in A\n",
    "    n = A.shape[1]  # n is number of columns in A\n",
    "\n",
    "    B = np.copy(A).astype('float64')\n",
    "\n",
    "    for j in range(n):\n",
    "        temp = B[k][j]\n",
    "        B[k][j] = B[l][j]\n",
    "        B[l][j] = temp\n",
    "\n",
    "    return B\n",
    "\n",
    "def RowScale(A,k,scale):\n",
    "# =============================================================================\n",
    "#     A is a NumPy array.  RowScale will return duplicate array with the\n",
    "#     entries of row k multiplied by scale.\n",
    "# =============================================================================\n",
    "    m = A.shape[0]  # m is number of rows in A\n",
    "    n = A.shape[1]  # n is number of columns in A\n",
    "\n",
    "    B = np.copy(A).astype('float64')\n",
    "\n",
    "    for j in range(n):\n",
    "        B[k][j] *= scale\n",
    "\n",
    "    return B\n",
    "\n",
    "def RowAdd(A,k,l,scale):\n",
    "# =============================================================================\n",
    "#     A is a numpy array.  RowAdd will return duplicate array with row\n",
    "#     l modifed.  The new values will be the old values of row l added to\n",
    "#     the values of row k, multiplied by scale.\n",
    "# =============================================================================\n",
    "    m = A.shape[0]  # m is number of rows in A\n",
    "    n = A.shape[1]  # n is number of columns in A\n",
    "\n",
    "    B = np.copy(A).astype('float64')\n",
    "\n",
    "    for j in range(n):\n",
    "        B[l][j] += B[k][j]*scale\n",
    "\n",
    "    return B"
   ]
  },
  {
   "cell_type": "markdown",
   "metadata": {},
   "source": [
    "# *Materi Invers Matriks*\n",
    "\n",
    "## Penjelasan dari Matriks Invers\n",
    "Invers Matriks adalah adalah sebuah matriks baru yang merupakan kebalikan dari matriks asal dengan notasi A-1. Jika Matriks tersebut dikalikan dengan inversnya, hasilnya adalah matriks identitas. Invers Matriks dapat diperoleh dari berbagai macam metode seperti menggunakan eliminasi gaussi seperti materi yang kita pelajari sebelumnya. Matriks invers adalah penting ketika mengerjakan soal-soal dalam sebuah matriks, sebab ia dapat memecahkan sistem persamaan linier. \n",
    "\n",
    "## sifat sifat matriks invers\n",
    "\n",
    "Invers matriks mempunyai sifat sifat bisa dikenali dan membedakannya dari matriks biasa adalah : \n",
    "\n",
    "\n",
    "1. $$ (A^{-1})^{-1} $$\n",
    "2. $$ A^{-1} . A = A . A^{-1} = I $$\n",
    "3. $$ AB = I  (artinya \\; A \\; dan \\; B \\; saling \\; invers,\\; yaitu A^{-1} = B \\; dan \\; B^{-1} = A ) $$\n",
    "4. $$ (AB)^{-1} = B^{-1} . A^{-1} $$\n",
    "5. $$ AB = C \\; maka \\; A = C.B^{-1} \\;,\\; B = A^{-1} . C $$\n",
    "\n",
    "\n",
    "[sifat](https://www.konsep-matematika.com/2015/09/sifat-sifat-determinan-dan-invers.html) \n",
    "\n",
    "## Mencari Invers Matriks dengan menggunakan metode eliminasi Gaus Jordan\n",
    "\n",
    "berikut ini adalah contoh matriks beserta dengan bagaimana cara mencari invers matriks menggunakan eliminasi gauss jordan serta pembuktian dari perhitungan secara langsung menggunakan library numpy python agar lebih pasti."
   ]
  },
  {
   "cell_type": "code",
   "execution_count": 2,
   "metadata": {},
   "outputs": [
    {
     "name": "stdout",
     "output_type": "stream",
     "text": [
      "[[1 2 1 1 0 0]\n",
      " [4 1 4 0 1 0]\n",
      " [4 4 2 0 0 1]]\n"
     ]
    }
   ],
   "source": [
    "import numpy as np\n",
    "\n",
    "# Contoh dari matriks yang ditambahkan dengan matriks identitas di sebelahnya agar bisa di cari invers matriksnya\n",
    "a = np.array([[1,2,1, 1,0,0],[4,1,4, 0,1,0],[4,4,2, 0,0,1]])\n",
    "print(a)"
   ]
  },
  {
   "cell_type": "code",
   "execution_count": 3,
   "metadata": {},
   "outputs": [
    {
     "name": "stdout",
     "output_type": "stream",
     "text": [
      "[[ 1.  2.  1.  1.  0.  0.]\n",
      " [ 4.  1.  4.  0.  1.  0.]\n",
      " [ 0.  3. -2.  0. -1.  1.]] \n",
      "\n",
      "[[ 1.  2.  1.  1.  0.  0.]\n",
      " [ 0. -7.  0. -4.  1.  0.]\n",
      " [ 0.  3. -2.  0. -1.  1.]] \n",
      "\n",
      "[[ 1.          2.          1.          1.          0.          0.        ]\n",
      " [-0.          1.         -0.          0.57142857 -0.14285714 -0.        ]\n",
      " [ 0.          3.         -2.          0.         -1.          1.        ]] \n",
      "\n",
      "[[ 1.          2.          1.          1.          0.          0.        ]\n",
      " [-0.          1.         -0.          0.57142857 -0.14285714 -0.        ]\n",
      " [ 0.          0.         -2.         -1.71428571 -0.57142857  1.        ]] \n",
      "\n",
      "[[ 1.          2.          1.          1.          0.          0.        ]\n",
      " [-0.          1.         -0.          0.57142857 -0.14285714 -0.        ]\n",
      " [-0.         -0.          1.          0.85714286  0.28571429 -0.5       ]] \n",
      "\n",
      "[[ 1.          2.          0.          0.14285714 -0.28571429  0.5       ]\n",
      " [-0.          1.         -0.          0.57142857 -0.14285714 -0.        ]\n",
      " [-0.         -0.          1.          0.85714286  0.28571429 -0.5       ]] \n",
      "\n",
      "[[ 1.          0.          0.         -1.          0.          0.5       ]\n",
      " [-0.          1.         -0.          0.57142857 -0.14285714 -0.        ]\n",
      " [-0.         -0.          1.          0.85714286  0.28571429 -0.5       ]] \n",
      "\n"
     ]
    }
   ],
   "source": [
    "# Ini adalah perhitungan secara manual menggunakan eliminasi gauss jordan dan ditemukan hasil akhirnya seperti yang dibawah tersebut\n",
    "a1 = RowAdd(a,1,2,-1)\n",
    "print(a1,'\\n')\n",
    "\n",
    "a2 = RowAdd(a1,0,1,-4)\n",
    "print(a2,'\\n')\n",
    "\n",
    "a3 = RowScale(a2,1,-1/7)\n",
    "print(a3,'\\n')\n",
    "\n",
    "a4 = RowAdd(a3,1,2,-3)\n",
    "print(a4,'\\n')\n",
    "\n",
    "a5 = RowScale(a4,2,-1/2)\n",
    "print(a5,'\\n')\n",
    "\n",
    "a6 = RowAdd(a5,2,0,-1)\n",
    "print(a6,'\\n')\n",
    "\n",
    "a7 = RowAdd(a6,1,0,-2)\n",
    "print(a7,'\\n')\n"
   ]
  },
  {
   "cell_type": "code",
   "execution_count": 4,
   "metadata": {},
   "outputs": [
    {
     "name": "stdout",
     "output_type": "stream",
     "text": [
      "[[-1.          0.          0.5       ]\n",
      " [ 0.57142857 -0.14285714  0.        ]\n",
      " [ 0.85714286  0.28571429 -0.5       ]]\n",
      "\n",
      "[[0.99999996 1.99999999 0.99999996]\n",
      " [3.99999991 0.99999996 3.99999991]\n",
      " [3.99999992 3.99999998 1.99999992]]\n"
     ]
    }
   ],
   "source": [
    "# Ini adalah matriks yang tanpa menggunakan matriks identitas \n",
    "a = np.array([[-1,0,0.5],[0.57142857,-0.14285714,0],[0.85714286,0.28571429,-0.5]])\n",
    "print(a)\n",
    "\n",
    "print()\n",
    "\n",
    "# Method numpy yang dapat digunakan untuk pembuktian invers matriks\n",
    "a_inv = np.linalg.inv(a)\n",
    "print(a_inv)"
   ]
  },
  {
   "cell_type": "markdown",
   "metadata": {},
   "source": [
    "## Tugas soal 4 persamaan 4 variabel cari solusinya pakai invers matriks\n",
    "\n",
    "### *Contoh Soal Tugas 4 Persamaan 4 Variabel*\n",
    "\n",
    "$$ x_1 - x_2 + 2x_3 - 1x_4 = 4 $$\n",
    "$$ 2x_1 - 2x_2 + 3x_3 - 2x_4 = -2 $$\n",
    "$$ x_1 + x_2 + 1x_3 = 3 $$\n",
    "$$ x_1 - 1x_2 - 4x_3 + 3x_4 = 6 $$\n",
    "\n",
    "\n",
    "Konversikan persamaan linier 4 variabel ini menjadi matriks agar dapat dicari berapa invers matriksnya melalui metode eliminasi gaus jordan. kita pisahkan menjadi 2 matriks yaitu matriks A untuk menampung persamaan linier, sedangkan matriks B yang menampung sama dengan dari persamaan linier\n",
    "\n",
    "$$\n",
    "\\begin{bmatrix}\n",
    "1 & -1 & 2 & -1 \\\\\n",
    "2 & -2 & 3 & -3 \\\\\n",
    "1 & 1 & 1 & 0 \\\\\n",
    "1 & -1 & 4 & 3 \\\\\n",
    "\\end{bmatrix}\n",
    "$$\n",
    "\n",
    "$$\n",
    "\\begin{bmatrix}\n",
    "4 \\\\\n",
    "-2 \\\\\n",
    "3 \\\\\n",
    "6 \\\\\n",
    "\\end{bmatrix}\n",
    "$$\n",
    "\n",
    "jangan lupa menggunakan matriks identitas untuk merubah matriks di atas. berikut ini adalah bentuk matriks identitas yang kita akan pakai.\n",
    "\n",
    "$$\n",
    "\\begin{bmatrix}\n",
    "1 & 0 & 0 & 0 \\\\\n",
    "0 & 1 & 0 & 0 \\\\\n",
    "0 & 0 & 1 & 0 \\\\\n",
    "0 & 0 & 0 & 1 \\\\\n",
    "\\end{bmatrix}\n",
    "$$\n",
    "\n",
    "selanjutnya adalah mengooperasikan metode sistem eliminasi gaus jordan\n",
    "\n"
   ]
  },
  {
   "cell_type": "code",
   "execution_count": 5,
   "metadata": {},
   "outputs": [
    {
     "name": "stdout",
     "output_type": "stream",
     "text": [
      "[[ 1 -1  2 -1  1  0  0  0]\n",
      " [ 2 -2  3 -3  0  1  0  0]\n",
      " [ 1  1  1  0  0  0  1  0]\n",
      " [ 1 -1  4  3  0  0  0  1]]\n"
     ]
    }
   ],
   "source": [
    "# Bentuk matriks yang sudah dipasangkan dengan matriks identitas dan akan dibuah menjadi matriks invers\n",
    "import numpy as np\n",
    "\n",
    "b = np.array([[1,-1,2,-1, 1,0,0,0], [2,-2,3,-3, 0,1,0,0], [1,1,1,0, 0,0,1,0], [1,-1,4,3, 0,0,0,1]])\n",
    "print(b)\n"
   ]
  },
  {
   "cell_type": "code",
   "execution_count": 6,
   "metadata": {},
   "outputs": [
    {
     "name": "stdout",
     "output_type": "stream",
     "text": [
      "[[ 1. -1.  2. -1.  1.  0.  0.  0.]\n",
      " [ 0.  0. -1. -1. -2.  1.  0.  0.]\n",
      " [ 1.  1.  1.  0.  0.  0.  1.  0.]\n",
      " [ 1. -1.  4.  3.  0.  0.  0.  1.]] \n",
      "\n"
     ]
    }
   ],
   "source": [
    "b1 = RowAdd(b,0,1,-2)\n",
    "print(b1,'\\n')"
   ]
  },
  {
   "cell_type": "code",
   "execution_count": 7,
   "metadata": {},
   "outputs": [
    {
     "name": "stdout",
     "output_type": "stream",
     "text": [
      "[[ 1. -1.  2. -1.  1.  0.  0.  0.]\n",
      " [ 0.  0. -1. -1. -2.  1.  0.  0.]\n",
      " [ 0.  2. -1.  1. -1.  0.  1.  0.]\n",
      " [ 1. -1.  4.  3.  0.  0.  0.  1.]] \n",
      "\n"
     ]
    }
   ],
   "source": [
    "b2 = RowAdd(b1,0,2,-1)\n",
    "print(b2,'\\n')"
   ]
  },
  {
   "cell_type": "code",
   "execution_count": 8,
   "metadata": {},
   "outputs": [
    {
     "name": "stdout",
     "output_type": "stream",
     "text": [
      "[[ 1. -1.  2. -1.  1.  0.  0.  0.]\n",
      " [ 0.  0. -1. -1. -2.  1.  0.  0.]\n",
      " [ 0.  2. -1.  1. -1.  0.  1.  0.]\n",
      " [ 0.  0.  2.  4. -1.  0.  0.  1.]] \n",
      "\n"
     ]
    }
   ],
   "source": [
    "b3 = RowAdd(b2,0,3,-1)\n",
    "print(b3,'\\n')"
   ]
  },
  {
   "cell_type": "code",
   "execution_count": 9,
   "metadata": {},
   "outputs": [
    {
     "name": "stdout",
     "output_type": "stream",
     "text": [
      "[[ 1. -1.  2. -1.  1.  0.  0.  0.]\n",
      " [ 0.  2. -1.  1. -1.  0.  1.  0.]\n",
      " [ 0.  0. -1. -1. -2.  1.  0.  0.]\n",
      " [ 0.  0.  2.  4. -1.  0.  0.  1.]] \n",
      "\n"
     ]
    }
   ],
   "source": [
    "b4 = RowSwap(b3,1,2,)\n",
    "print(b4,'\\n')"
   ]
  },
  {
   "cell_type": "code",
   "execution_count": 10,
   "metadata": {},
   "outputs": [
    {
     "name": "stdout",
     "output_type": "stream",
     "text": [
      "[[ 1.  -1.   2.  -1.   1.   0.   0.   0. ]\n",
      " [ 0.   1.  -0.5  0.5 -0.5  0.   0.5  0. ]\n",
      " [ 0.   0.  -1.  -1.  -2.   1.   0.   0. ]\n",
      " [ 0.   0.   2.   4.  -1.   0.   0.   1. ]] \n",
      "\n"
     ]
    }
   ],
   "source": [
    "b5 = RowScale(b4,1,1/2)\n",
    "print(b5,'\\n')"
   ]
  },
  {
   "cell_type": "code",
   "execution_count": 11,
   "metadata": {},
   "outputs": [
    {
     "name": "stdout",
     "output_type": "stream",
     "text": [
      "[[ 1.  -1.   2.  -1.   1.   0.   0.   0. ]\n",
      " [ 0.   1.  -0.5  0.5 -0.5  0.   0.5  0. ]\n",
      " [ 0.   0.  -1.  -1.  -2.   1.   0.   0. ]\n",
      " [ 0.   0.   1.   2.  -0.5  0.   0.   0.5]] \n",
      "\n"
     ]
    }
   ],
   "source": [
    "b6 = RowScale(b5,3,1/2)\n",
    "print(b6,'\\n')"
   ]
  },
  {
   "cell_type": "code",
   "execution_count": 12,
   "metadata": {},
   "outputs": [
    {
     "name": "stdout",
     "output_type": "stream",
     "text": [
      "[[ 1.  -1.   2.  -1.   1.   0.   0.   0. ]\n",
      " [ 0.   1.  -0.5  0.5 -0.5  0.   0.5  0. ]\n",
      " [ 0.   0.  -1.  -1.  -2.   1.   0.   0. ]\n",
      " [ 0.   0.   0.   1.  -2.5  1.   0.   0.5]] \n",
      "\n"
     ]
    }
   ],
   "source": [
    "b7 = RowAdd(b6,2,3,1)\n",
    "print(b7,'\\n')"
   ]
  },
  {
   "cell_type": "code",
   "execution_count": 13,
   "metadata": {},
   "outputs": [
    {
     "name": "stdout",
     "output_type": "stream",
     "text": [
      "[[ 1.   0.   1.5 -0.5  0.5  0.   0.5  0. ]\n",
      " [ 0.   1.  -0.5  0.5 -0.5  0.   0.5  0. ]\n",
      " [ 0.   0.  -1.  -1.  -2.   1.   0.   0. ]\n",
      " [ 0.   0.   0.   1.  -2.5  1.   0.   0.5]] \n",
      "\n"
     ]
    }
   ],
   "source": [
    "b8 = RowAdd(b7,1,0,1)\n",
    "print(b8,'\\n')"
   ]
  },
  {
   "cell_type": "code",
   "execution_count": 14,
   "metadata": {},
   "outputs": [
    {
     "name": "stdout",
     "output_type": "stream",
     "text": [
      "[[ 1.   0.   1.5 -0.5  0.5  0.   0.5  0. ]\n",
      " [ 0.   1.  -0.5  0.5 -0.5  0.   0.5  0. ]\n",
      " [ 0.   0.  -1.   0.  -4.5  2.   0.   0.5]\n",
      " [ 0.   0.   0.   1.  -2.5  1.   0.   0.5]] \n",
      "\n"
     ]
    }
   ],
   "source": [
    "b9 = RowAdd(b8,3,2,1)\n",
    "print(b9,'\\n')"
   ]
  },
  {
   "cell_type": "code",
   "execution_count": 15,
   "metadata": {},
   "outputs": [
    {
     "name": "stdout",
     "output_type": "stream",
     "text": [
      "[[ 1.    0.    0.   -0.5  -6.25  3.    0.5   0.75]\n",
      " [ 0.    1.   -0.5   0.5  -0.5   0.    0.5   0.  ]\n",
      " [ 0.    0.   -1.    0.   -4.5   2.    0.    0.5 ]\n",
      " [ 0.    0.    0.    1.   -2.5   1.    0.    0.5 ]] \n",
      "\n"
     ]
    }
   ],
   "source": [
    "b10 = RowAdd(b9,2,0,1.5)\n",
    "print(b10,'\\n')"
   ]
  },
  {
   "cell_type": "code",
   "execution_count": 16,
   "metadata": {},
   "outputs": [
    {
     "name": "stdout",
     "output_type": "stream",
     "text": [
      "[[ 1.    0.    0.   -0.5  -6.25  3.    0.5   0.75]\n",
      " [ 0.    1.    0.    0.5   1.75 -1.    0.5  -0.25]\n",
      " [ 0.    0.   -1.    0.   -4.5   2.    0.    0.5 ]\n",
      " [ 0.    0.    0.    1.   -2.5   1.    0.    0.5 ]] \n",
      "\n"
     ]
    }
   ],
   "source": [
    "b11 = RowAdd(b10,2,1,-0.5)\n",
    "print(b11,'\\n')"
   ]
  },
  {
   "cell_type": "code",
   "execution_count": 17,
   "metadata": {},
   "outputs": [
    {
     "name": "stdout",
     "output_type": "stream",
     "text": [
      "[[ 1.    0.    0.   -0.5  -6.25  3.    0.5   0.75]\n",
      " [ 0.    1.    0.    0.5   1.75 -1.    0.5  -0.25]\n",
      " [-0.   -0.    1.   -0.    4.5  -2.   -0.   -0.5 ]\n",
      " [ 0.    0.    0.    1.   -2.5   1.    0.    0.5 ]] \n",
      "\n"
     ]
    }
   ],
   "source": [
    "b12 = RowScale(b11,2,-1)\n",
    "print(b12,'\\n')"
   ]
  },
  {
   "cell_type": "code",
   "execution_count": 18,
   "metadata": {},
   "outputs": [
    {
     "name": "stdout",
     "output_type": "stream",
     "text": [
      "[[ 1.    0.    0.   -0.5  -6.25  3.    0.5   0.75]\n",
      " [ 0.    1.    0.    0.    3.   -1.5   0.5  -0.5 ]\n",
      " [-0.   -0.    1.   -0.    4.5  -2.   -0.   -0.5 ]\n",
      " [ 0.    0.    0.    1.   -2.5   1.    0.    0.5 ]] \n",
      "\n"
     ]
    }
   ],
   "source": [
    "b13 = RowAdd(b12,3,1,-0.5)\n",
    "print(b13,'\\n')"
   ]
  },
  {
   "cell_type": "code",
   "execution_count": 19,
   "metadata": {},
   "outputs": [
    {
     "name": "stdout",
     "output_type": "stream",
     "text": [
      "[[ 1.   0.   0.   0.  -7.5  3.5  0.5  1. ]\n",
      " [ 0.   1.   0.   0.   3.  -1.5  0.5 -0.5]\n",
      " [-0.  -0.   1.  -0.   4.5 -2.  -0.  -0.5]\n",
      " [ 0.   0.   0.   1.  -2.5  1.   0.   0.5]] \n",
      "\n"
     ]
    }
   ],
   "source": [
    "b14 = RowAdd(b13,3,0,0.5)\n",
    "print(b14,'\\n')"
   ]
  },
  {
   "cell_type": "markdown",
   "metadata": {},
   "source": [
    "jika kita sudah menemukan invers matriksnya maka langkah selanjutnya adalah kita mengalikan matriks yang sudah kita invers tadi dengan matriks B yaitu hasil sama dengan persamaan linier tadi. \n",
    "\n",
    "$X = A^{-1}B = \\begin{bmatrix} -7.5 & 3.5 & 0.5 & 1 \\\\ 3 & -1.5 & 0.5 & -0.5 \\\\ 4.5 & -2 & 0 & -0.5 \\\\ -2.5 & 1 & 0 & 0.5 \\end{bmatrix}$ x $\\begin{bmatrix} 4 \\\\ -2 \\\\ 3 \\\\ 6 \\end{bmatrix}$"
   ]
  },
  {
   "cell_type": "code",
   "execution_count": 20,
   "metadata": {},
   "outputs": [
    {
     "name": "stdout",
     "output_type": "stream",
     "text": [
      "[[-29.5]\n",
      " [ 13.5]\n",
      " [ 25. ]\n",
      " [ -9. ]]\n"
     ]
    }
   ],
   "source": [
    "import numpy as np\n",
    "\n",
    "b_invers = np.array([[-7.5,3.5,0.5,1],[3,-1.5,0.5,-0.5],[4.5,-2,0,0.5],[-2.5,1,0,0.5]])\n",
    "b = np.array([[4],[-2],[3],[6]])\n",
    "\n",
    "x = b_invers @ b\n",
    "\n",
    "print(x)\n"
   ]
  },
  {
   "cell_type": "markdown",
   "metadata": {},
   "source": [
    "x1 = 2\n",
    "x2 = 1\n",
    "x3 = 0\n",
    "\n",
    "x1 + x2 + x3 = 3\n",
    "2x1 + x2 + 3x3 = 5\n",
    "x1 - 2x2 + x3 = 0"
   ]
  },
  {
   "cell_type": "code",
   "execution_count": 21,
   "metadata": {},
   "outputs": [
    {
     "name": "stdout",
     "output_type": "stream",
     "text": [
      "[[ 2.33333333e+00 -1.00000000e+00  6.66666667e-01]\n",
      " [ 3.33333333e-01  2.22044605e-17 -3.33333333e-01]\n",
      " [-1.66666667e+00  1.00000000e+00 -3.33333333e-01]]\n",
      "\n",
      "c \n",
      "[[ 1.00000000e+00  2.22044605e-16  8.88178420e-16]\n",
      " [ 0.00000000e+00  1.00000000e+00  0.00000000e+00]\n",
      " [-5.55111512e-17  0.00000000e+00  1.00000000e+00]]\n",
      "[[ 2. -1.  1.]\n",
      " [ 0.  0. -0.]\n",
      " [-2.  1. -0.]]\n"
     ]
    }
   ],
   "source": [
    "t100 = np.array([[1,1,1], [2,1,3],[1,-2,1]])\n",
    "invers = np.linalg.inv(t100)\n",
    "print(invers)\n",
    "print()\n",
    "c = invers @ t100\n",
    "print(f'c \\n{c}')\n",
    "\n",
    "bulat = np.round(invers)\n",
    "print(bulat)"
   ]
  },
  {
   "cell_type": "code",
   "execution_count": 22,
   "metadata": {},
   "outputs": [
    {
     "name": "stdout",
     "output_type": "stream",
     "text": [
      "[[ 1  1  1  1  0  0]\n",
      " [ 2  1  3  0  1  0]\n",
      " [ 1 -2  1  0  0  1]]\n"
     ]
    }
   ],
   "source": [
    "o = np.array([[1,1,1, 1,0,0,], [2,1,3, 0,1,0,], [1,-2,1, 0,0,1]])\n",
    "print(o)\n"
   ]
  },
  {
   "cell_type": "code",
   "execution_count": 23,
   "metadata": {},
   "outputs": [
    {
     "name": "stdout",
     "output_type": "stream",
     "text": [
      "[[ 1.  1.  1.  1.  0.  0.]\n",
      " [ 0. -1.  1. -2.  1.  0.]\n",
      " [ 1. -2.  1.  0.  0.  1.]]"
     ]
    },
    {
     "name": "stdout",
     "output_type": "stream",
     "text": [
      " \n",
      "\n"
     ]
    }
   ],
   "source": [
    "o1 = RowAdd(o,0,1,-2)\n",
    "print(o1,'\\n')"
   ]
  },
  {
   "cell_type": "code",
   "execution_count": 24,
   "metadata": {},
   "outputs": [
    {
     "name": "stdout",
     "output_type": "stream",
     "text": [
      "[[ 1.  1.  1.  1.  0.  0.]\n",
      " [ 0. -1.  1. -2.  1.  0.]\n",
      " [ 0. -3.  0. -1.  0.  1.]]"
     ]
    },
    {
     "name": "stdout",
     "output_type": "stream",
     "text": [
      " \n",
      "\n"
     ]
    }
   ],
   "source": [
    "o2 = RowAdd(o1,0,2,-1)\n",
    "print(o2,'\\n')"
   ]
  },
  {
   "cell_type": "code",
   "execution_count": 25,
   "metadata": {},
   "outputs": [
    {
     "name": "stdout",
     "output_type": "stream",
     "text": [
      "[[ 1.  1.  1.  1.  0.  0.]\n",
      " [-0.  1. -1.  2. -1. -0.]\n",
      " [ 0. -3.  0. -1.  0.  1.]] \n",
      "\n"
     ]
    }
   ],
   "source": [
    "o3 = RowScale(o2,1,1/-1)\n",
    "print(o3,'\\n')"
   ]
  },
  {
   "cell_type": "code",
   "execution_count": 26,
   "metadata": {},
   "outputs": [
    {
     "name": "stdout",
     "output_type": "stream",
     "text": [
      "[[ 1.  0.  2. -1.  1.  0.]\n",
      " [-0.  1. -1.  2. -1. -0.]\n",
      " [ 0. -3.  0. -1.  0.  1.]] \n",
      "\n"
     ]
    }
   ],
   "source": [
    "o4 = RowAdd(o3,1,0,-1)\n",
    "print(o4,'\\n')"
   ]
  },
  {
   "cell_type": "code",
   "execution_count": 27,
   "metadata": {},
   "outputs": [
    {
     "name": "stdout",
     "output_type": "stream",
     "text": [
      "[[ 1.  0.  2. -1.  1.  0.]\n",
      " [-0.  1. -1.  2. -1. -0.]\n",
      " [ 0.  0. -3.  5. -3.  1.]] \n",
      "\n"
     ]
    }
   ],
   "source": [
    "o5 = RowAdd(o4,1,2,3)\n",
    "print(o5,'\\n')"
   ]
  },
  {
   "cell_type": "code",
   "execution_count": 28,
   "metadata": {},
   "outputs": [
    {
     "name": "stdout",
     "output_type": "stream",
     "text": [
      "[[ 1.          0.          2.         -1.          1.          0.        ]\n",
      " [-0.          1.         -1.          2.         -1.         -0.        ]\n",
      " [-0.         -0.          1.         -1.66666667  1.         -0.33333333]] \n",
      "\n"
     ]
    }
   ],
   "source": [
    "o6 = RowScale(o5,2,1/-3)\n",
    "print(o6,'\\n')"
   ]
  },
  {
   "cell_type": "code",
   "execution_count": 29,
   "metadata": {},
   "outputs": [
    {
     "name": "stdout",
     "output_type": "stream",
     "text": [
      "[[ 1.          0.          2.         -1.          1.          0.        ]\n",
      " [-0.          1.          0.          0.33333333  0.         -0.33333333]\n",
      " [-0.         -0.          1.         -1.66666667  1.         -0.33333333]] \n",
      "\n"
     ]
    }
   ],
   "source": [
    "o7 = RowAdd(o6,2,1,1)\n",
    "print(o7,'\\n')"
   ]
  },
  {
   "cell_type": "code",
   "execution_count": 30,
   "metadata": {},
   "outputs": [
    {
     "name": "stdout",
     "output_type": "stream",
     "text": [
      "[[ 1.          0.          0.          2.33333333 -1.          0.66666667]\n",
      " [-0.          1.          0.          0.33333333  0.         -0.33333333]\n",
      " [-0.         -0.          1.         -1.66666667  1.         -0.33333333]] \n",
      "\n"
     ]
    }
   ],
   "source": [
    "o8 = RowAdd(o7,2,0,-2)\n",
    "print(o8,'\\n')"
   ]
  },
  {
   "cell_type": "code",
   "execution_count": 31,
   "metadata": {},
   "outputs": [
    {
     "name": "stdout",
     "output_type": "stream",
     "text": [
      "[[ 1.99999999e+00]\n",
      " [ 9.99999990e-01]\n",
      " [-9.99999972e-09]]\n",
      "\n",
      "[[ 2.]\n",
      " [ 1.]\n",
      " [-0.]]\n"
     ]
    }
   ],
   "source": [
    "import numpy as np\n",
    "\n",
    "tugas_invers = np.array([[2.33333333,-1,0.66666667],[0.33333333,0,-0.33333333],[-1.66666667,1,-0.33333333]])\n",
    "tugas = np.array([[3],[5],[0]])\n",
    "\n",
    "j = tugas_invers @ tugas\n",
    "j1 = np.round(j)\n",
    "\n",
    "print(j)\n",
    "print()\n",
    "print(j1)\n"
   ]
  }
 ],
 "metadata": {
  "kernelspec": {
   "display_name": "Python 3 (ipykernel)",
   "language": "python",
   "name": "python3"
  },
  "language_info": {
   "codemirror_mode": {
    "name": "ipython",
    "version": 3
   },
   "file_extension": ".py",
   "mimetype": "text/x-python",
   "name": "python",
   "nbconvert_exporter": "python",
   "pygments_lexer": "ipython3",
   "version": "3.10.13"
  },
  "widgets": {
   "application/vnd.jupyter.widget-state+json": {
    "state": {},
    "version_major": 2,
    "version_minor": 0
   }
  }
 },
 "nbformat": 4,
 "nbformat_minor": 4
}