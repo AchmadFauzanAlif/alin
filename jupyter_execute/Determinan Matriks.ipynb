{
 "cells": [
  {
   "cell_type": "markdown",
   "metadata": {},
   "source": [
    "# Materi Determinan Matriks\n",
    "\n",
    "## Pengertian dari Determinan Matriks \n",
    "\n",
    "Determinan adalah nilai yang dapat dihitung dari unsur-unsur suatu matriks persegi. Matriks persegi adalah matriks yang memiliki jumlah baris dan kolom yang sama, sehingga kalau kita gambarkan bentuk matriksnya, akan membentuk bangun layaknya persegi. Rumus dari determinan Matriks adalah sebagai berikut ini \n",
    "\n",
    "### Operasi determinan matriks 2X2\n",
    "\n",
    "$$ A = \\begin{bmatrix}\n",
    "a & b  \\\\\n",
    "c & d  \\\\\n",
    "\\end{bmatrix}\n",
    "$$\n",
    "\n",
    "$$ (a \\times d) - (b \\times b) $$\n",
    "\n",
    "#### Contoh Operasi determinan Matriks 2X2\n",
    "\n",
    "$$ A = \\begin{bmatrix}\n",
    "2 & 5  \\\\\n",
    "4 & 3  \\\\\n",
    "\\end{bmatrix}\n",
    "$$\n",
    "\n",
    "$$ (2 \\times 3) - (5 \\times 4) = 6 - 20 = 14 $$\n",
    "\n",
    "\n",
    "## Sifat Sifat dari Determinan Matriks"
   ]
  },
  {
   "cell_type": "code",
   "execution_count": 1,
   "metadata": {
    "metadata": {}
   },
   "outputs": [
    {
     "name": "stdout",
     "output_type": "stream",
     "text": [
      "[[2 3]\n",
      " [1 2]]\n",
      "\n",
      "[[1 2 3]\n",
      " [1 1 3]\n",
      " [1 4 2]]\n",
      "\n",
      "[[1 0]\n",
      " [0 1]]\n",
      "\n",
      "[[1 0 0]\n",
      " [0 1 0]\n",
      " [0 0 1]]\n"
     ]
    }
   ],
   "source": [
    "import numpy as np\n",
    "\n",
    "matriksA = np.array([[2,3],[1,2]])\n",
    "matriksB = np.array([[1,2,3],[1,1,3],[1,4,2]])\n",
    "matriksC = np.array([[1,0,],[0,1,]])\n",
    "matriksD = np.array([[1,0,0],[0,1,0],[0,0,1]])\n",
    "\n",
    "\n",
    "print(matriksA)\n",
    "print()\n",
    "print(matriksB)\n",
    "print()\n",
    "print(matriksC)\n",
    "print()\n",
    "print(matriksD)"
   ]
  },
  {
   "cell_type": "markdown",
   "metadata": {},
   "source": [
    "1. Sebanyak apapun ordo dari Matriks Indentitas determinannya pasti adalah 1 "
   ]
  },
  {
   "cell_type": "code",
   "execution_count": 2,
   "metadata": {
    "metadata": {}
   },
   "outputs": [
    {
     "name": "stdout",
     "output_type": "stream",
     "text": [
      "1.0\n",
      "1.0\n"
     ]
    }
   ],
   "source": [
    "detC = np.linalg.det(matriksC)\n",
    "detD = np.linalg.det(matriksD)\n",
    "\n",
    "print(detC)\n",
    "print(detC)"
   ]
  },
  {
   "cell_type": "markdown",
   "metadata": {},
   "source": [
    "2. determinan dari matriks det(AB) sama dengan det(A) x det(B)."
   ]
  },
  {
   "cell_type": "code",
   "execution_count": 3,
   "metadata": {
    "metadata": {}
   },
   "outputs": [
    {
     "name": "stdout",
     "output_type": "stream",
     "text": [
      "0.0\n"
     ]
    }
   ],
   "source": [
    "matriksE = np.array([[2,1,3],[1,2,3],[1,1,2]])\n",
    "matriksF = np.array([[2,1,3],[1,1,1],[3,2,3]])\n",
    "\n",
    "\n",
    "detE = np.linalg.det(matriksE)\n",
    "detB = np.linalg.det(matriksB)\n",
    "\n",
    "kali1 = detE * detB\n",
    "print(kali1)"
   ]
  },
  {
   "cell_type": "markdown",
   "metadata": {},
   "source": [
    "3. Merubah suatu matriks akan merubah tanda dari suatu determinan pada matriks"
   ]
  },
  {
   "cell_type": "code",
   "execution_count": 4,
   "metadata": {
    "metadata": {}
   },
   "outputs": [
    {
     "name": "stdout",
     "output_type": "stream",
     "text": [
      "[[1 4 2]\n",
      " [1 1 1]\n",
      " [3 2 1]]\n",
      "\n",
      "5.0\n",
      "-5.0\n",
      "-5.0\n"
     ]
    }
   ],
   "source": [
    "matriksA = np.array([[1,4,2],[1,1,1],[3,2,1]])\n",
    "\n",
    "matriksA1 = np.array([[1,1,1],[1,4,2],[3,2,1]])\n",
    "\n",
    "matriksA2 = np.array([[4,1,2],[1,1,1],[2,3,1]])\n",
    "\n",
    "detA = np.linalg.det(matriksA)\n",
    "detA1 = np.linalg.det(matriksA1)\n",
    "detA2 = np.linalg.det(matriksA2)\n",
    "\n",
    "\n",
    "print(matriksA)\n",
    "print()\n",
    "print(detA.round())\n",
    "print(detA1.round())\n",
    "print(detA2.round())\n"
   ]
  },
  {
   "cell_type": "markdown",
   "metadata": {},
   "source": [
    "4. Jika baris dari matriks merupakan kelipatan dari baris atau kolom yang lain maka akan menghasilkan nol"
   ]
  },
  {
   "cell_type": "code",
   "execution_count": 5,
   "metadata": {
    "metadata": {}
   },
   "outputs": [
    {
     "name": "stdout",
     "output_type": "stream",
     "text": [
      "[[1 4 2]\n",
      " [2 8 4]\n",
      " [3 2 1]]\n",
      "0.0\n",
      "\n",
      "[[1 4 2]\n",
      " [2 8 3]\n",
      " [1 4 1]]\n",
      "0.0\n"
     ]
    }
   ],
   "source": [
    "import numpy as np\n",
    "matriksB = np.array([[1,4,2],[2,8,4],[3,2,1]])\n",
    "matriksB1 = np.array([[1,4,2],[2,8,3],[1,4,1]])\n",
    "\n",
    "detB = np.linalg.det(matriksB)\n",
    "detB1 = np.linalg.det(matriksB1)\n",
    "\n",
    "print(matriksB)\n",
    "print(detB)\n",
    "print()\n",
    "print(matriksB1)\n",
    "print(detB1)\n"
   ]
  },
  {
   "cell_type": "markdown",
   "metadata": {},
   "source": [
    "5. Jika matriks A dikalikan dengan skalar, maka determinan dari Matriks A yang dikali dengan Skalar bisa di cari dengan cara, kalikan determinan A dengan skalar pangkat orde matriks\n",
    "\n",
    "$$ det(KA) = det(A) \\times k^{ordo matriks} $$"
   ]
  },
  {
   "cell_type": "code",
   "execution_count": 6,
   "metadata": {
    "metadata": {}
   },
   "outputs": [
    {
     "name": "stdout",
     "output_type": "stream",
     "text": [
      "[[2 8 4]\n",
      " [2 2 2]\n",
      " [6 4 2]]\n",
      "\n",
      "40.0\n",
      "\n",
      "40\n"
     ]
    }
   ],
   "source": [
    "matriksA = np.array([[1,4,2],[1,1,1],[3,2,1]])\n",
    "k = 2\n",
    "matriksA1 = matriksA * 2\n",
    "print(matriksA1)\n",
    "\n",
    "print()\n",
    "\n",
    "# Menggunakan fungsi dari python\n",
    "detA1 = np.linalg.det(matriksA1)\n",
    "print(detA1)\n",
    "\n",
    "print()\n",
    "\n",
    "#Menggunakan sifat dari determinan\n",
    "detKA = 5 * 2**3\n",
    "print(detKA)\n"
   ]
  },
  {
   "cell_type": "markdown",
   "metadata": {},
   "source": [
    "6. Jika skalar dikalikan dengan baris 1 dari matriks pertama maka ,determinan KA bisa dicari dengan skalar dikali determinan martriks. $$ det(KA) = K \\times det(A) $$\n"
   ]
  },
  {
   "cell_type": "code",
   "execution_count": 7,
   "metadata": {
    "metadata": {}
   },
   "outputs": [
    {
     "name": "stdout",
     "output_type": "stream",
     "text": [
      "[[1 4 2]\n",
      " [1 1 1]\n",
      " [3 2 1]]\n",
      "\n",
      "10.0\n",
      "\n",
      "10\n"
     ]
    }
   ],
   "source": [
    "matriksA = np.array([[1,4,2],[1,1,1],[3,2,1]])\n",
    "print(matriksA)\n",
    "k = 2\n",
    "\n",
    "print()\n",
    "\n",
    "# Menggunakan fungsi dari py\n",
    "matriksA1 = np.array([[2,8,4],[1,1,1],[3,2,1]])\n",
    "detA1 = np.linalg.det(matriksA1)\n",
    "print(detA1.round())\n",
    "\n",
    "print()\n",
    "# Menggunakan sifat dari determinan\n",
    "detKA = 2 * 5\n",
    "print(detKA)"
   ]
  },
  {
   "cell_type": "markdown",
   "metadata": {},
   "source": [
    "7. Melakukan operasi baris elementer tidak merupah nilai determinan dari matriks tersebut"
   ]
  },
  {
   "cell_type": "code",
   "execution_count": 8,
   "metadata": {
    "metadata": {}
   },
   "outputs": [],
   "source": [
    "def RowSwap(A,k,l):\n",
    "# =============================================================================\n",
    "#     A is a NumPy array.  RowSwap will return duplicate array with rows\n",
    "#     k and l swapped.\n",
    "# =============================================================================\n",
    "    m = A.shape[0]  # m is number of rows in A\n",
    "    n = A.shape[1]  # n is number of columns in A\n",
    "\n",
    "    B = np.copy(A).astype('float64')\n",
    "\n",
    "    for j in range(n):\n",
    "        temp = B[k][j]\n",
    "        B[k][j] = B[l][j]\n",
    "        B[l][j] = temp\n",
    "\n",
    "    return B\n",
    "\n",
    "def RowScale(A,k,scale):\n",
    "# =============================================================================\n",
    "#     A is a NumPy array.  RowScale will return duplicate array with the\n",
    "#     entries of row k multiplied by scale.\n",
    "# =============================================================================\n",
    "    m = A.shape[0]  # m is number of rows in A\n",
    "    n = A.shape[1]  # n is number of columns in A\n",
    "\n",
    "    B = np.copy(A).astype('float64')\n",
    "\n",
    "    for j in range(n):\n",
    "        B[k][j] *= scale\n",
    "\n",
    "    return B\n",
    "\n",
    "def RowAdd(A,k,l,scale):\n",
    "# =============================================================================\n",
    "#     A is a numpy array.  RowAdd will return duplicate array with row\n",
    "#     l modifed.  The new values will be the old values of row l added to\n",
    "#     the values of row k, multiplied by scale.\n",
    "# =============================================================================\n",
    "    m = A.shape[0]  # m is number of rows in A\n",
    "    n = A.shape[1]  # n is number of columns in A\n",
    "\n",
    "    B = np.copy(A).astype('float64')\n",
    "\n",
    "    for j in range(n):\n",
    "        B[l][j] += B[k][j]*scale\n",
    "\n",
    "    return B"
   ]
  },
  {
   "cell_type": "code",
   "execution_count": 9,
   "metadata": {
    "metadata": {}
   },
   "outputs": [
    {
     "name": "stdout",
     "output_type": "stream",
     "text": [
      "5.0\n",
      "\n",
      "\n",
      " [[ 1.  4.  2.]\n",
      " [ 0. -3. -1.]\n",
      " [ 3.  2.  1.]]\n",
      "5.0\n"
     ]
    }
   ],
   "source": [
    "matriksA = np.array([[1,4,2],[1,1,1],[3,2,1]])\n",
    "detA = np.linalg.det(matriksA)\n",
    "print(detA.round())\n",
    "\n",
    "print()\n",
    "\n",
    "matriksA1 = RowAdd(matriksA,0,1,-1)\n",
    "print('\\n', matriksA1)\n",
    "\n",
    "detA1 = np.linalg.det(matriksA1)\n",
    "print(detA1.round())"
   ]
  },
  {
   "cell_type": "markdown",
   "metadata": {},
   "source": [
    "8. Determinan matriks a tranpose sama dengan determinan matriks a."
   ]
  },
  {
   "cell_type": "code",
   "execution_count": 10,
   "metadata": {
    "metadata": {}
   },
   "outputs": [
    {
     "name": "stdout",
     "output_type": "stream",
     "text": [
      "5.0\n",
      "\n",
      "[[1 1 3]\n",
      " [4 1 2]\n",
      " [2 1 1]]\n",
      "\n",
      "5.0\n"
     ]
    }
   ],
   "source": [
    "matriksA = np.array([[1,4,2],[1,1,1],[3,2,1]])\n",
    "detA = np.linalg.det(matriksA)\n",
    "\n",
    "print(detA.round())\n",
    "\n",
    "print()\n",
    "transposeA = matriksA.transpose()\n",
    "print(transposeA)\n",
    "\n",
    "print()\n",
    "detA1 = np.linalg.det(transposeA)\n",
    "print(detA1.round())\n"
   ]
  },
  {
   "cell_type": "markdown",
   "metadata": {},
   "source": [
    "9. determinan matriks segitiga dicari dengan mengalikan setiap elemen yang ada di matriks diagonalnya saja"
   ]
  },
  {
   "cell_type": "code",
   "execution_count": 11,
   "metadata": {
    "metadata": {}
   },
   "outputs": [
    {
     "name": "stdout",
     "output_type": "stream",
     "text": [
      "[[1 4 2]\n",
      " [1 1 1]\n",
      " [3 2 1]]\n",
      "\n",
      "5.0\n"
     ]
    }
   ],
   "source": [
    "matriksA = np.array([[1,4,2],[1,1,1],[3,2,1]])\n",
    "print(matriksA)\n",
    "\n",
    "print()\n",
    "\n",
    "print(np.linalg.det(matriksA).round())\n",
    "\n",
    "\n"
   ]
  },
  {
   "cell_type": "markdown",
   "metadata": {},
   "source": [
    "## Mencari Determinan Suatu Matrik ordo 4x4 menggunakan Ekspansi Kofaktor\n",
    "\n",
    "Tentukan terlebih dahulu matriks 4x4 yang akan dicari determinannya. lalu untuk rumus yang akan digunakan adalah seperti dibawah ini. Untuk contoh soal yang saya berikan akan menggunakan baris kedua: \n",
    "\n",
    "$$ A_{BarisSemuaKolom} $$\n",
    "\n",
    "Untuk contohnya adalah sebagai berikut ini\n",
    "\n",
    "$$ A_{21}C_{21} + A_{22}C_{22} + A_{23}C_{23} + A_{24}C_{24} $$\n",
    "\n",
    "Untuk mencari kofaktor dari setiap kolom adalah sebagai berikut ini:\n",
    "\n",
    "$$ C_{21} = (-1)^{2+1} \\times (M_{21}) $$\n",
    "$$ C_{22} = (-1)^{2+2} \\times (M_{22}) $$\n",
    "$$ C_{23} = (-1)^{2+3} \\times (M_{23}) $$\n",
    "$$ C_{24} = (-1)^{2+4} \\times (M_{24}) $$\n",
    "\n"
   ]
  },
  {
   "cell_type": "code",
   "execution_count": 12,
   "metadata": {
    "metadata": {}
   },
   "outputs": [
    {
     "name": "stdout",
     "output_type": "stream",
     "text": [
      "[[ 3 -3  4  3]\n",
      " [-1  0  3 -1]\n",
      " [-2  1  4  2]\n",
      " [ 1 -2  3  5]]\n"
     ]
    }
   ],
   "source": [
    "import numpy as np\n",
    "matriksF = np.array([[3,-3,4,3],[-1,0,3,-1],[-2,1,4,2],[1,-2,3,5]])\n",
    "print(matriksF)\n"
   ]
  },
  {
   "cell_type": "markdown",
   "metadata": {},
   "source": [
    "Mencari Determinan dari M21\n",
    "\n",
    "$$ M_{21} = \\begin{bmatrix}\n",
    "-3 & 4 & 3  \\\\\n",
    "1 & 4 & 2 \\\\\n",
    "-2 & 3 & 5 \\\\\n",
    "\\end{bmatrix}\n",
    "$$"
   ]
  },
  {
   "cell_type": "code",
   "execution_count": 13,
   "metadata": {},
   "outputs": [
    {
     "name": "stdout",
     "output_type": "stream",
     "text": [
      "Matriks MF21\n",
      "\n",
      "[[-3  4  3]\n",
      " [ 1  4  2]\n",
      " [-2  3  5]]\n"
     ]
    }
   ],
   "source": [
    "print(\"Matriks MF21\")\n",
    "print()\n",
    "MF21 = np.array([[-3,4,3],[1,4,2],[-2,3,5]])\n",
    "print(MF21)"
   ]
  },
  {
   "cell_type": "code",
   "execution_count": 14,
   "metadata": {},
   "outputs": [
    {
     "name": "stdout",
     "output_type": "stream",
     "text": [
      "[[4 3]\n",
      " [3 5]]\n",
      "\n",
      "[[-3  3]\n",
      " [-2  5]]\n",
      "\n",
      "[[-3  4]\n",
      " [-2  3]]\n",
      "\n",
      "-45.0\n"
     ]
    }
   ],
   "source": [
    "\n",
    "c1 =np.array([[4,3],[3,5]])\n",
    "print(c1)\n",
    "print()\n",
    "\n",
    "c2 = np.array([[-3,3],[-2,5]])\n",
    "print(c2)\n",
    "print()\n",
    "\n",
    "c3 = np.array([[-3,4],[-2,3]])\n",
    "print(c3)\n",
    "print()\n",
    "\n",
    "m21 = 1 * ((-1)**(2+1)) *np.linalg.det(c1) + 4 * ((-1)**(2+2)) *np.linalg.det(c2) + 2 * ((-1)**(2+3)) *np.linalg.det(c3)\n",
    "print(m21.round())"
   ]
  },
  {
   "cell_type": "markdown",
   "metadata": {},
   "source": [
    "Mencari Determinan dari M22\n",
    "\n",
    "$$ M_{22} = \\begin{bmatrix}\n",
    "3 & 4 & 3  \\\\\n",
    "-2 & 4 & 2 \\\\\n",
    "1 & 3 & 5 \\\\\n",
    "\\end{bmatrix}\n",
    "$$"
   ]
  },
  {
   "cell_type": "code",
   "execution_count": 15,
   "metadata": {},
   "outputs": [
    {
     "name": "stdout",
     "output_type": "stream",
     "text": [
      "Matriks MF22\n",
      "\n",
      "[[ 3  4  3]\n",
      " [-2  4  2]\n",
      " [ 1  3  5]]\n"
     ]
    }
   ],
   "source": [
    "print(\"Matriks MF22\")\n",
    "print()\n",
    "MF22 = np.array([[3,4,3],[-2,4,2],[1,3,5]])\n",
    "print(MF22)"
   ]
  },
  {
   "cell_type": "code",
   "execution_count": 16,
   "metadata": {},
   "outputs": [
    {
     "name": "stdout",
     "output_type": "stream",
     "text": [
      "[[4 3]\n",
      " [4 2]]\n",
      "\n",
      "[[ 3  3]\n",
      " [-2  2]]\n",
      "\n",
      "[[ 3  4]\n",
      " [-2  4]]\n",
      "\n",
      "60.0\n"
     ]
    }
   ],
   "source": [
    "c1 = np.array([[4,3],[4,2]])\n",
    "print(c1)\n",
    "print()\n",
    "\n",
    "c2 = np.array([[3,3],[-2,2]])\n",
    "print(c2)\n",
    "print()\n",
    "\n",
    "c3 = np.array([[3,4],[-2,4]])\n",
    "print(c3)\n",
    "print()\n",
    "\n",
    "m22 = 1 * ((-1)**(3+1)) *np.linalg.det(c1) + 3 * ((-1)**(3+2)) *np.linalg.det(c2) + 5 * ((-1)**(3+3)) *np.linalg.det(c3)\n",
    "print(m22.round())"
   ]
  },
  {
   "cell_type": "markdown",
   "metadata": {},
   "source": [
    "Mencari Determinan dari M23\n",
    "\n",
    "$$ M_{23} = \\begin{bmatrix}\n",
    "3 & 3 & 3  \\\\\n",
    "-2 & 1 & 2 \\\\\n",
    "1 & -2 & 5 \\\\\n",
    "\\end{bmatrix}\n",
    "$$"
   ]
  },
  {
   "cell_type": "code",
   "execution_count": 17,
   "metadata": {},
   "outputs": [
    {
     "name": "stdout",
     "output_type": "stream",
     "text": [
      "Matriks MF23\n",
      "\n",
      "[[ 3 -3  3]\n",
      " [-2  1  2]\n",
      " [ 1 -2  5]]\n"
     ]
    }
   ],
   "source": [
    "print(\"Matriks MF23\")\n",
    "print()\n",
    "MF23 = np.array([[3,-3,3],[-2,1,2],[1,-2,5]])\n",
    "print(MF23)"
   ]
  },
  {
   "cell_type": "code",
   "execution_count": 18,
   "metadata": {},
   "outputs": [
    {
     "name": "stdout",
     "output_type": "stream",
     "text": [
      "[[-3  3]\n",
      " [-2  5]]\n",
      "\n",
      "[[3 3]\n",
      " [1 5]]\n",
      "\n",
      "[[ 3 -3]\n",
      " [ 1 -2]]\n",
      "\n",
      "-0.0\n"
     ]
    }
   ],
   "source": [
    "c1 = np.array([[-3,3],[-2,5]])\n",
    "print(c1)\n",
    "print()\n",
    "\n",
    "c2 = np.array([[3,3],[1,5]])\n",
    "print(c2)\n",
    "print()\n",
    "\n",
    "c3 = np.array([[3,-3],[1,-2]])\n",
    "print(c3)\n",
    "print()\n",
    "\n",
    "m23 = -2 * ((-1)**(2+1)) *np.linalg.det(c1) + 1 * ((-1)**(2+2)) *np.linalg.det(c2) + 2 * ((-1)**(2+3)) *np.linalg.det(c3)\n",
    "print(m23.round())"
   ]
  },
  {
   "cell_type": "markdown",
   "metadata": {},
   "source": [
    "Mencari Determinan dari M24\n",
    "\n",
    "$$ M_{24} = \\begin{bmatrix}\n",
    "3 & 3 & 4  \\\\\n",
    "-2 & 1 & 4 \\\\\n",
    "-1 & -2 & 3 \\\\\n",
    "\\end{bmatrix}\n",
    "$$"
   ]
  },
  {
   "cell_type": "code",
   "execution_count": 19,
   "metadata": {},
   "outputs": [
    {
     "name": "stdout",
     "output_type": "stream",
     "text": [
      "Matriks MF24\n",
      "\n",
      "[[ 3 -3  4]\n",
      " [-2  1  4]\n",
      " [ 1 -2  3]]\n"
     ]
    }
   ],
   "source": [
    "print(\"Matriks MF24\")\n",
    "print()\n",
    "MF24 = np.array([[3,-3,4] ,[-2,1,4],[1,-2,3]])\n",
    "print(MF24)"
   ]
  },
  {
   "cell_type": "code",
   "execution_count": 20,
   "metadata": {},
   "outputs": [
    {
     "name": "stdout",
     "output_type": "stream",
     "text": [
      "[[-3  4]\n",
      " [ 1  4]]\n",
      "\n",
      "[[ 3  4]\n",
      " [-2  4]]\n",
      "\n",
      "[[ 3 -3]\n",
      " [-2  1]]\n",
      "\n",
      "15.0\n"
     ]
    }
   ],
   "source": [
    "c1 = np.array([[-3,4],[1,4]])\n",
    "print(c1)\n",
    "print()\n",
    "\n",
    "c2 = np.array([[3,4],[-2,4]])\n",
    "print(c2)\n",
    "print()\n",
    "\n",
    "c3 = np.array([[3,-3],[-2,1]])\n",
    "print(c3)\n",
    "print()\n",
    "\n",
    "m24 = 1 * ((-1)**(3+1)) *np.linalg.det(c1) + -2 * ((-1)**(3+2)) *np.linalg.det(c2) + 3 * ((-1)**(3+3)) *np.linalg.det(c3)\n",
    "print(m24.round())"
   ]
  },
  {
   "cell_type": "markdown",
   "metadata": {},
   "source": [
    "Setelah diketahui semua determinan dari minor matriks yang ada maka selanjutnya adalah mensubsitusi semua determinan tersebut ke dalam rumus tadi\n",
    "\n",
    "$$ det(F) = A_{21}C_{21} + A_{22}C_{22} + A_{23}C_{23} + A_{24}C_{24} $$\n",
    "\n",
    "cara untuk memperoleh konstanta masih sama seperti sebelumnya jadi bentuk rumusnya akan seperti ini \n",
    "\n",
    "$$ det(f) = A_{21} \\times (-1)^{2+1} \\times det(M21) + A_{22} \\times (-1)^{2+2} \\times det(M22) + A_{23} \\times (-1)^{2+3} \\times det(M23) + A_{24} \\times (-1)^{2+4} \\times det(M24) $$"
   ]
  },
  {
   "cell_type": "code",
   "execution_count": 21,
   "metadata": {},
   "outputs": [
    {
     "name": "stdout",
     "output_type": "stream",
     "text": [
      "-60.0\n"
     ]
    }
   ],
   "source": [
    "detF = -1 * ((-1)**(2+1)) * m21 + 0 * ((-1)**(2+2)) * m22  + 3 * ((-1)**(2+3)) * m23 + -1 * ((-1)**(2+4)) * m24\n",
    "print(detF.round())"
   ]
  },
  {
   "cell_type": "markdown",
   "metadata": {},
   "source": [
    "Jadi determinan dari suatu matriks F 4x4 diatas adalah -60"
   ]
  }
 ],
 "metadata": {
  "kernelspec": {
   "display_name": "Python 3 (ipykernel)",
   "language": "python",
   "name": "python3"
  },
  "language_info": {
   "codemirror_mode": {
    "name": "ipython",
    "version": 3
   },
   "file_extension": ".py",
   "mimetype": "text/x-python",
   "name": "python",
   "nbconvert_exporter": "python",
   "pygments_lexer": "ipython3",
   "version": "3.10.13"
  },
  "widgets": {
   "application/vnd.jupyter.widget-state+json": {
    "state": {},
    "version_major": 2,
    "version_minor": 0
   }
  }
 },
 "nbformat": 4,
 "nbformat_minor": 4
}