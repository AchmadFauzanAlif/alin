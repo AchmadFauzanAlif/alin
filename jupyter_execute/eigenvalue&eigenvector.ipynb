{
 "cells": [
  {
   "cell_type": "markdown",
   "metadata": {},
   "source": [
    "# EigenValue & EigenVector"
   ]
  },
  {
   "cell_type": "markdown",
   "metadata": {},
   "source": [
    "## Penjelasan  mengenai Eigenvalue dan Eigenvector\n",
    "Eigenvalue dan eigenvector adalah konsep penting dalam analisis matematika, khususnya dalam bidang linier aljabar dan statistika. Mereka digunakan secara luas dalam berbagai aplikasi, termasuk pengenalan wajah, analisis data, dan optimasi.\n",
    "\n",
    "### Eigenvalue\n",
    "Eigenvalue, juga dikenal sebagai nilai eigen, adalah nilai yang terkait dengan matriks square. Dalam konteks linear algebra, eigenvalue dari matriks A adalah niali $\\lambda$ yang memenuhi persamaan berikut ini\n",
    "\n",
    "$$ Av = \\lambda v$$\n",
    "\n",
    "dimana $\\mathbf{v}$ adalah vektor non-nol yang disebut eigenvector, dan $\\lambda$ adalah nilai aigenvalue. Dalam arti lain, aigenvalue adalah niali yang membuat vektor $\\mathbf{v}$ menjadi vektor linear dari matriks A\n",
    "\n",
    "### Eigenvector\n",
    "Eigenvector, seperti yang disebutkan sebelumnya, adalah vektor non-nol yang memenuhii persamaan eigenvalue. Vektor ini memiliki sifat khusu bahwa ketika diterapkan pada matriks A, hasilnya adalah hasil perkalian dengan nilai eigenvalue $\\lambda$. Dalam contho di atas, $\\mathbf{v}$ adalah eigenvector dari matrks A dengan eigenvalue $\\lambda$\n",
    "\n",
    "### Contoh Aplikasi\n",
    "Eigenvalue dan eigenvector memiliki aplikasi yang luas dalam berbagai bidang, termasuk: \n",
    "\n",
    "1. [Pengenalan Wajah](https://www.academia.edu/42215462/Penggunaan_PCA_Principal_Component_Analysis_): Dalam pengenalain wajah, eigenvector digunakan untuk menganalisis struktur wajah dan menemukan ciri ciri yang unik. Eigenvalue digunakan untuk menentukan skala dan orientasi dari ciri ciri tersebut\n",
    "\n",
    "2. Analisis Data: Dalam analisis data, eigenvector digunakan untuk mengurangi dimensi data yang kompleks dan menemukan sturktur yang tersembunyi. Eigenvalue digunakan untuk menentukan signifikansi dari sturktur tersebut"
   ]
  },
  {
   "cell_type": "markdown",
   "metadata": {},
   "source": [
    "## Menghitung Eigenvalue dan Eigenvector Menggunakan Library Numpy\n",
    "\n",
    "Di zaman sekarang kita telah dimudahkan dengan teknologi yang telah tersedia, termasuk juga dengan cara kita untuk ingin mencari suatu eigenvalue dan eigenvector suatu data dengan menggunakan bahasa python dan juga library-librarynya. Saat ini saya akan mencoba mencari eigenvalue dan eigenvector dengan menggunakan bahasa python dan menggunakan libraby numpy\n",
    "\n",
    "### Mencari Eigenvalue dan Eigenvector Matriks $2\\times2$"
   ]
  },
  {
   "cell_type": "code",
   "execution_count": 1,
   "metadata": {},
   "outputs": [
    {
     "name": "stdout",
     "output_type": "stream",
     "text": [
      "Eigenvalue: \n",
      "[5. 2.]\n",
      "Eigenvector: \n",
      "[[ 1. -0.]\n",
      " [ 1.  1.]]\n"
     ]
    }
   ],
   "source": [
    "import numpy as np\n",
    "\n",
    "A = np.array([[4,1],[2,3]])\n",
    "\n",
    "eigenvalue, eigenvector = np.linalg.eig(A)\n",
    "\n",
    "print(\"Eigenvalue: \")\n",
    "print(eigenvalue)\n",
    "print(\"Eigenvector: \")\n",
    "print(eigenvector.round())"
   ]
  },
  {
   "cell_type": "markdown",
   "metadata": {},
   "source": [
    "### Mencari Eigenvalue dan Eigenvector Matriks $3\\times3$"
   ]
  },
  {
   "cell_type": "code",
   "execution_count": 2,
   "metadata": {},
   "outputs": [
    {
     "name": "stdout",
     "output_type": "stream",
     "text": [
      "Eigenvalue: \n",
      "[ 7.  1. -2.]\n",
      "Eigenvector: \n",
      "[[-0. -1.  0.]\n",
      " [-1.  0. -1.]\n",
      " [-1.  0.  1.]]\n"
     ]
    }
   ],
   "source": [
    "import numpy as np\n",
    "\n",
    "B = np.array([[2,3,1],[2,2,4],[1,4,2]])\n",
    "\n",
    "\n",
    "eigenvalue, eigenvector = np.linalg.eig(B)\n",
    "\n",
    "print(\"Eigenvalue: \")\n",
    "print(eigenvalue.round())\n",
    "print(\"Eigenvector: \")\n",
    "print(eigenvector.round())"
   ]
  },
  {
   "cell_type": "markdown",
   "metadata": {},
   "source": [
    "## Implementasi Eigenvalue dan EigenVector\n"
   ]
  },
  {
   "cell_type": "code",
   "execution_count": 3,
   "metadata": {},
   "outputs": [],
   "source": [
    "def pcaSVD(X):\n",
    "    # Center X and get covariance matrix C\n",
    "    n, p = X.shape\n",
    "    X -= X.mean(axis=0)\n",
    "\n",
    "    # SVD\n",
    "    u, sigma, vt = np.linalg.svd(X, full_matrices=False)\n",
    "\n",
    "    # Return principal compnents and eigenvalues to calculate the portion of sample variance explained\n",
    "    return (X @ vt.T), (sigma**2) / (n-1)"
   ]
  },
  {
   "cell_type": "code",
   "execution_count": 4,
   "metadata": {},
   "outputs": [],
   "source": [
    "import numpy as np\n",
    "\n",
    "T = np.array([[2,1],[2,2]])\n"
   ]
  },
  {
   "cell_type": "code",
   "execution_count": 5,
   "metadata": {},
   "outputs": [
    {
     "ename": "UFuncTypeError",
     "evalue": "Cannot cast ufunc 'subtract' output from dtype('float64') to dtype('int64') with casting rule 'same_kind'",
     "output_type": "error",
     "traceback": [
      "\u001b[0;31m---------------------------------------------------------------------------\u001b[0m",
      "\u001b[0;31mUFuncTypeError\u001b[0m                            Traceback (most recent call last)",
      "Cell \u001b[0;32mIn[5], line 1\u001b[0m\n\u001b[0;32m----> 1\u001b[0m \u001b[38;5;28mprint\u001b[39m(\u001b[43mpcaSVD\u001b[49m\u001b[43m(\u001b[49m\u001b[43mT\u001b[49m\u001b[43m)\u001b[49m)\n",
      "Cell \u001b[0;32mIn[3], line 4\u001b[0m, in \u001b[0;36mpcaSVD\u001b[0;34m(X)\u001b[0m\n\u001b[1;32m      1\u001b[0m \u001b[38;5;28;01mdef\u001b[39;00m \u001b[38;5;21mpcaSVD\u001b[39m(X):\n\u001b[1;32m      2\u001b[0m     \u001b[38;5;66;03m# Center X and get covariance matrix C\u001b[39;00m\n\u001b[1;32m      3\u001b[0m     n, p \u001b[38;5;241m=\u001b[39m X\u001b[38;5;241m.\u001b[39mshape\n\u001b[0;32m----> 4\u001b[0m     X \u001b[38;5;241m-\u001b[39m\u001b[38;5;241m=\u001b[39m X\u001b[38;5;241m.\u001b[39mmean(axis\u001b[38;5;241m=\u001b[39m\u001b[38;5;241m0\u001b[39m)\n\u001b[1;32m      6\u001b[0m     \u001b[38;5;66;03m# SVD\u001b[39;00m\n\u001b[1;32m      7\u001b[0m     u, sigma, vt \u001b[38;5;241m=\u001b[39m np\u001b[38;5;241m.\u001b[39mlinalg\u001b[38;5;241m.\u001b[39msvd(X, full_matrices\u001b[38;5;241m=\u001b[39m\u001b[38;5;28;01mFalse\u001b[39;00m)\n",
      "\u001b[0;31mUFuncTypeError\u001b[0m: Cannot cast ufunc 'subtract' output from dtype('float64') to dtype('int64') with casting rule 'same_kind'"
     ]
    }
   ],
   "source": [
    "print(pcaSVD(T))"
   ]
  }
 ],
 "metadata": {
  "kernelspec": {
   "display_name": "Python 3 (ipykernel)",
   "language": "python",
   "name": "python3"
  },
  "language_info": {
   "codemirror_mode": {
    "name": "ipython",
    "version": 3
   },
   "file_extension": ".py",
   "mimetype": "text/x-python",
   "name": "python",
   "nbconvert_exporter": "python",
   "pygments_lexer": "ipython3",
   "version": "3.10.13"
  },
  "widgets": {
   "application/vnd.jupyter.widget-state+json": {
    "state": {},
    "version_major": 2,
    "version_minor": 0
   }
  }
 },
 "nbformat": 4,
 "nbformat_minor": 4
}